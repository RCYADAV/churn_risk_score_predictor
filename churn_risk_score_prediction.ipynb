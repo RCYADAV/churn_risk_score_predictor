{
  "nbformat": 4,
  "nbformat_minor": 0,
  "metadata": {
    "colab": {
      "name": "churn_risk_score_prediction.ipynb",
      "provenance": []
    },
    "kernelspec": {
      "name": "python3",
      "display_name": "Python 3"
    },
    "language_info": {
      "name": "python"
    }
  },
  "cells": [
    {
      "cell_type": "code",
      "metadata": {
        "colab": {
          "base_uri": "https://localhost:8080/"
        },
        "id": "3K5LJJ0C6ngF",
        "outputId": "04845d8d-0b94-43c7-a6b5-8b818d56e375"
      },
      "source": [
        "cd /content/drive/MyDrive/AIML/churn_risk_score_prediction"
      ],
      "execution_count": 104,
      "outputs": [
        {
          "output_type": "stream",
          "text": [
            "/content/drive/MyDrive/AIML/churn_risk_score_prediction\n"
          ],
          "name": "stdout"
        }
      ]
    },
    {
      "cell_type": "code",
      "metadata": {
        "id": "waMHgG9w69Iu"
      },
      "source": [
        "import pandas as pd\n",
        "from matplotlib import pyplot as plt\n",
        "import numpy as np\n",
        "import random\n",
        "from sklearn.model_selection import train_test_split\n",
        "from collections import Counter\n",
        "import seaborn as sns"
      ],
      "execution_count": 105,
      "outputs": []
    },
    {
      "cell_type": "code",
      "metadata": {
        "id": "ux5M2i0f7MZL"
      },
      "source": [
        "data = pd.read_csv('train.csv')\n",
        "test_data = pd.read_csv('test.csv')\n"
      ],
      "execution_count": 106,
      "outputs": []
    },
    {
      "cell_type": "code",
      "metadata": {
        "colab": {
          "base_uri": "https://localhost:8080/",
          "height": 345
        },
        "id": "gsVEWZ7I7Pw_",
        "outputId": "dd650a67-9d35-47ca-ae08-ba993c7850e5"
      },
      "source": [
        "data.head()"
      ],
      "execution_count": 107,
      "outputs": [
        {
          "output_type": "execute_result",
          "data": {
            "text/html": [
              "<div>\n",
              "<style scoped>\n",
              "    .dataframe tbody tr th:only-of-type {\n",
              "        vertical-align: middle;\n",
              "    }\n",
              "\n",
              "    .dataframe tbody tr th {\n",
              "        vertical-align: top;\n",
              "    }\n",
              "\n",
              "    .dataframe thead th {\n",
              "        text-align: right;\n",
              "    }\n",
              "</style>\n",
              "<table border=\"1\" class=\"dataframe\">\n",
              "  <thead>\n",
              "    <tr style=\"text-align: right;\">\n",
              "      <th></th>\n",
              "      <th>customer_id</th>\n",
              "      <th>Name</th>\n",
              "      <th>age</th>\n",
              "      <th>gender</th>\n",
              "      <th>security_no</th>\n",
              "      <th>region_category</th>\n",
              "      <th>membership_category</th>\n",
              "      <th>joining_date</th>\n",
              "      <th>joined_through_referral</th>\n",
              "      <th>referral_id</th>\n",
              "      <th>preferred_offer_types</th>\n",
              "      <th>medium_of_operation</th>\n",
              "      <th>internet_option</th>\n",
              "      <th>last_visit_time</th>\n",
              "      <th>days_since_last_login</th>\n",
              "      <th>avg_time_spent</th>\n",
              "      <th>avg_transaction_value</th>\n",
              "      <th>avg_frequency_login_days</th>\n",
              "      <th>points_in_wallet</th>\n",
              "      <th>used_special_discount</th>\n",
              "      <th>offer_application_preference</th>\n",
              "      <th>past_complaint</th>\n",
              "      <th>complaint_status</th>\n",
              "      <th>feedback</th>\n",
              "      <th>churn_risk_score</th>\n",
              "    </tr>\n",
              "  </thead>\n",
              "  <tbody>\n",
              "    <tr>\n",
              "      <th>0</th>\n",
              "      <td>fffe4300490044003600300030003800</td>\n",
              "      <td>Pattie Morrisey</td>\n",
              "      <td>18</td>\n",
              "      <td>F</td>\n",
              "      <td>XW0DQ7H</td>\n",
              "      <td>Village</td>\n",
              "      <td>Platinum Membership</td>\n",
              "      <td>2017-08-17</td>\n",
              "      <td>No</td>\n",
              "      <td>xxxxxxxx</td>\n",
              "      <td>Gift Vouchers/Coupons</td>\n",
              "      <td>?</td>\n",
              "      <td>Wi-Fi</td>\n",
              "      <td>16:08:02</td>\n",
              "      <td>17</td>\n",
              "      <td>300.63</td>\n",
              "      <td>53005.25</td>\n",
              "      <td>17.0</td>\n",
              "      <td>781.75</td>\n",
              "      <td>Yes</td>\n",
              "      <td>Yes</td>\n",
              "      <td>No</td>\n",
              "      <td>Not Applicable</td>\n",
              "      <td>Products always in Stock</td>\n",
              "      <td>2</td>\n",
              "    </tr>\n",
              "    <tr>\n",
              "      <th>1</th>\n",
              "      <td>fffe43004900440032003100300035003700</td>\n",
              "      <td>Traci Peery</td>\n",
              "      <td>32</td>\n",
              "      <td>F</td>\n",
              "      <td>5K0N3X1</td>\n",
              "      <td>City</td>\n",
              "      <td>Premium Membership</td>\n",
              "      <td>2017-08-28</td>\n",
              "      <td>?</td>\n",
              "      <td>CID21329</td>\n",
              "      <td>Gift Vouchers/Coupons</td>\n",
              "      <td>Desktop</td>\n",
              "      <td>Mobile_Data</td>\n",
              "      <td>12:38:13</td>\n",
              "      <td>16</td>\n",
              "      <td>306.34</td>\n",
              "      <td>12838.38</td>\n",
              "      <td>10.0</td>\n",
              "      <td>NaN</td>\n",
              "      <td>Yes</td>\n",
              "      <td>No</td>\n",
              "      <td>Yes</td>\n",
              "      <td>Solved</td>\n",
              "      <td>Quality Customer Care</td>\n",
              "      <td>1</td>\n",
              "    </tr>\n",
              "    <tr>\n",
              "      <th>2</th>\n",
              "      <td>fffe4300490044003100390032003600</td>\n",
              "      <td>Merideth Mcmeen</td>\n",
              "      <td>44</td>\n",
              "      <td>F</td>\n",
              "      <td>1F2TCL3</td>\n",
              "      <td>Town</td>\n",
              "      <td>No Membership</td>\n",
              "      <td>2016-11-11</td>\n",
              "      <td>Yes</td>\n",
              "      <td>CID12313</td>\n",
              "      <td>Gift Vouchers/Coupons</td>\n",
              "      <td>Desktop</td>\n",
              "      <td>Wi-Fi</td>\n",
              "      <td>22:53:21</td>\n",
              "      <td>14</td>\n",
              "      <td>516.16</td>\n",
              "      <td>21027.00</td>\n",
              "      <td>22.0</td>\n",
              "      <td>500.69</td>\n",
              "      <td>No</td>\n",
              "      <td>Yes</td>\n",
              "      <td>Yes</td>\n",
              "      <td>Solved in Follow-up</td>\n",
              "      <td>Poor Website</td>\n",
              "      <td>5</td>\n",
              "    </tr>\n",
              "    <tr>\n",
              "      <th>3</th>\n",
              "      <td>fffe43004900440036003000330031003600</td>\n",
              "      <td>Eufemia Cardwell</td>\n",
              "      <td>37</td>\n",
              "      <td>M</td>\n",
              "      <td>VJGJ33N</td>\n",
              "      <td>City</td>\n",
              "      <td>No Membership</td>\n",
              "      <td>2016-10-29</td>\n",
              "      <td>Yes</td>\n",
              "      <td>CID3793</td>\n",
              "      <td>Gift Vouchers/Coupons</td>\n",
              "      <td>Desktop</td>\n",
              "      <td>Mobile_Data</td>\n",
              "      <td>15:57:50</td>\n",
              "      <td>11</td>\n",
              "      <td>53.27</td>\n",
              "      <td>25239.56</td>\n",
              "      <td>6.0</td>\n",
              "      <td>567.66</td>\n",
              "      <td>No</td>\n",
              "      <td>Yes</td>\n",
              "      <td>Yes</td>\n",
              "      <td>Unsolved</td>\n",
              "      <td>Poor Website</td>\n",
              "      <td>5</td>\n",
              "    </tr>\n",
              "    <tr>\n",
              "      <th>4</th>\n",
              "      <td>fffe43004900440031003900350030003600</td>\n",
              "      <td>Meghan Kosak</td>\n",
              "      <td>31</td>\n",
              "      <td>F</td>\n",
              "      <td>SVZXCWB</td>\n",
              "      <td>City</td>\n",
              "      <td>No Membership</td>\n",
              "      <td>2017-09-12</td>\n",
              "      <td>No</td>\n",
              "      <td>xxxxxxxx</td>\n",
              "      <td>Credit/Debit Card Offers</td>\n",
              "      <td>Smartphone</td>\n",
              "      <td>Mobile_Data</td>\n",
              "      <td>15:46:44</td>\n",
              "      <td>20</td>\n",
              "      <td>113.13</td>\n",
              "      <td>24483.66</td>\n",
              "      <td>16.0</td>\n",
              "      <td>663.06</td>\n",
              "      <td>No</td>\n",
              "      <td>Yes</td>\n",
              "      <td>Yes</td>\n",
              "      <td>Solved</td>\n",
              "      <td>Poor Website</td>\n",
              "      <td>5</td>\n",
              "    </tr>\n",
              "  </tbody>\n",
              "</table>\n",
              "</div>"
            ],
            "text/plain": [
              "                            customer_id  ... churn_risk_score\n",
              "0      fffe4300490044003600300030003800  ...                2\n",
              "1  fffe43004900440032003100300035003700  ...                1\n",
              "2      fffe4300490044003100390032003600  ...                5\n",
              "3  fffe43004900440036003000330031003600  ...                5\n",
              "4  fffe43004900440031003900350030003600  ...                5\n",
              "\n",
              "[5 rows x 25 columns]"
            ]
          },
          "metadata": {
            "tags": []
          },
          "execution_count": 107
        }
      ]
    },
    {
      "cell_type": "code",
      "metadata": {
        "colab": {
          "base_uri": "https://localhost:8080/",
          "height": 345
        },
        "id": "RPkmmMWU7YAq",
        "outputId": "4ffe653f-84f4-4600-8fdd-55b09e50e3ed"
      },
      "source": [
        "test_data.head()"
      ],
      "execution_count": 108,
      "outputs": [
        {
          "output_type": "execute_result",
          "data": {
            "text/html": [
              "<div>\n",
              "<style scoped>\n",
              "    .dataframe tbody tr th:only-of-type {\n",
              "        vertical-align: middle;\n",
              "    }\n",
              "\n",
              "    .dataframe tbody tr th {\n",
              "        vertical-align: top;\n",
              "    }\n",
              "\n",
              "    .dataframe thead th {\n",
              "        text-align: right;\n",
              "    }\n",
              "</style>\n",
              "<table border=\"1\" class=\"dataframe\">\n",
              "  <thead>\n",
              "    <tr style=\"text-align: right;\">\n",
              "      <th></th>\n",
              "      <th>customer_id</th>\n",
              "      <th>Name</th>\n",
              "      <th>age</th>\n",
              "      <th>gender</th>\n",
              "      <th>security_no</th>\n",
              "      <th>region_category</th>\n",
              "      <th>membership_category</th>\n",
              "      <th>joining_date</th>\n",
              "      <th>joined_through_referral</th>\n",
              "      <th>referral_id</th>\n",
              "      <th>preferred_offer_types</th>\n",
              "      <th>medium_of_operation</th>\n",
              "      <th>internet_option</th>\n",
              "      <th>last_visit_time</th>\n",
              "      <th>days_since_last_login</th>\n",
              "      <th>avg_time_spent</th>\n",
              "      <th>avg_transaction_value</th>\n",
              "      <th>avg_frequency_login_days</th>\n",
              "      <th>points_in_wallet</th>\n",
              "      <th>used_special_discount</th>\n",
              "      <th>offer_application_preference</th>\n",
              "      <th>past_complaint</th>\n",
              "      <th>complaint_status</th>\n",
              "      <th>feedback</th>\n",
              "    </tr>\n",
              "  </thead>\n",
              "  <tbody>\n",
              "    <tr>\n",
              "      <th>0</th>\n",
              "      <td>fffe43004900440031003700300030003400</td>\n",
              "      <td>Alethia Meints</td>\n",
              "      <td>50</td>\n",
              "      <td>F</td>\n",
              "      <td>OQJ1XAY</td>\n",
              "      <td>Village</td>\n",
              "      <td>Premium Membership</td>\n",
              "      <td>2015-11-02</td>\n",
              "      <td>No</td>\n",
              "      <td>xxxxxxxx</td>\n",
              "      <td>Without Offers</td>\n",
              "      <td>Smartphone</td>\n",
              "      <td>Wi-Fi</td>\n",
              "      <td>07:19:30</td>\n",
              "      <td>12</td>\n",
              "      <td>386.26</td>\n",
              "      <td>40721.44</td>\n",
              "      <td>7.0</td>\n",
              "      <td>733.830000</td>\n",
              "      <td>Yes</td>\n",
              "      <td>No</td>\n",
              "      <td>No</td>\n",
              "      <td>Not Applicable</td>\n",
              "      <td>Poor Product Quality</td>\n",
              "    </tr>\n",
              "    <tr>\n",
              "      <th>1</th>\n",
              "      <td>fffe43004900440031003900370037003300</td>\n",
              "      <td>Ming Lopez</td>\n",
              "      <td>41</td>\n",
              "      <td>M</td>\n",
              "      <td>OUQRPKO</td>\n",
              "      <td>Village</td>\n",
              "      <td>Gold Membership</td>\n",
              "      <td>2016-03-01</td>\n",
              "      <td>No</td>\n",
              "      <td>xxxxxxxx</td>\n",
              "      <td>Without Offers</td>\n",
              "      <td>Desktop</td>\n",
              "      <td>Fiber_Optic</td>\n",
              "      <td>22:21:16</td>\n",
              "      <td>11</td>\n",
              "      <td>37.80</td>\n",
              "      <td>9644.40</td>\n",
              "      <td>9.0</td>\n",
              "      <td>726.000000</td>\n",
              "      <td>Yes</td>\n",
              "      <td>No</td>\n",
              "      <td>No</td>\n",
              "      <td>Not Applicable</td>\n",
              "      <td>Poor Website</td>\n",
              "    </tr>\n",
              "    <tr>\n",
              "      <th>2</th>\n",
              "      <td>fffe43004900440034003800360037003000</td>\n",
              "      <td>Carina Flannigan</td>\n",
              "      <td>31</td>\n",
              "      <td>F</td>\n",
              "      <td>02J2RE7</td>\n",
              "      <td>Town</td>\n",
              "      <td>Silver Membership</td>\n",
              "      <td>2017-03-03</td>\n",
              "      <td>No</td>\n",
              "      <td>xxxxxxxx</td>\n",
              "      <td>Gift Vouchers/Coupons</td>\n",
              "      <td>Both</td>\n",
              "      <td>Mobile_Data</td>\n",
              "      <td>16:40:39</td>\n",
              "      <td>18</td>\n",
              "      <td>215.36</td>\n",
              "      <td>3693.25</td>\n",
              "      <td>21.0</td>\n",
              "      <td>713.780000</td>\n",
              "      <td>Yes</td>\n",
              "      <td>No</td>\n",
              "      <td>Yes</td>\n",
              "      <td>Solved in Follow-up</td>\n",
              "      <td>No reason specified</td>\n",
              "    </tr>\n",
              "    <tr>\n",
              "      <th>3</th>\n",
              "      <td>fffe43004900440036003200370033003400</td>\n",
              "      <td>Kyung Wanner</td>\n",
              "      <td>64</td>\n",
              "      <td>M</td>\n",
              "      <td>5YEQIF1</td>\n",
              "      <td>Town</td>\n",
              "      <td>Silver Membership</td>\n",
              "      <td>2017-08-18</td>\n",
              "      <td>Yes</td>\n",
              "      <td>CID8941</td>\n",
              "      <td>Credit/Debit Card Offers</td>\n",
              "      <td>?</td>\n",
              "      <td>Fiber_Optic</td>\n",
              "      <td>14:56:17</td>\n",
              "      <td>-999</td>\n",
              "      <td>44.57</td>\n",
              "      <td>36809.56</td>\n",
              "      <td>11.0</td>\n",
              "      <td>744.970000</td>\n",
              "      <td>Yes</td>\n",
              "      <td>No</td>\n",
              "      <td>Yes</td>\n",
              "      <td>No Information Available</td>\n",
              "      <td>Too many ads</td>\n",
              "    </tr>\n",
              "    <tr>\n",
              "      <th>4</th>\n",
              "      <td>fffe43004900440035003000370031003900</td>\n",
              "      <td>Enola Gatto</td>\n",
              "      <td>16</td>\n",
              "      <td>F</td>\n",
              "      <td>100RYB5</td>\n",
              "      <td>Town</td>\n",
              "      <td>No Membership</td>\n",
              "      <td>2015-05-05</td>\n",
              "      <td>Yes</td>\n",
              "      <td>CID5690</td>\n",
              "      <td>Without Offers</td>\n",
              "      <td>Smartphone</td>\n",
              "      <td>Mobile_Data</td>\n",
              "      <td>02:57:53</td>\n",
              "      <td>6</td>\n",
              "      <td>349.88</td>\n",
              "      <td>40675.86</td>\n",
              "      <td>8.0</td>\n",
              "      <td>299.048351</td>\n",
              "      <td>No</td>\n",
              "      <td>Yes</td>\n",
              "      <td>Yes</td>\n",
              "      <td>Solved in Follow-up</td>\n",
              "      <td>Poor Website</td>\n",
              "    </tr>\n",
              "  </tbody>\n",
              "</table>\n",
              "</div>"
            ],
            "text/plain": [
              "                            customer_id  ...              feedback\n",
              "0  fffe43004900440031003700300030003400  ...  Poor Product Quality\n",
              "1  fffe43004900440031003900370037003300  ...          Poor Website\n",
              "2  fffe43004900440034003800360037003000  ...   No reason specified\n",
              "3  fffe43004900440036003200370033003400  ...          Too many ads\n",
              "4  fffe43004900440035003000370031003900  ...          Poor Website\n",
              "\n",
              "[5 rows x 24 columns]"
            ]
          },
          "metadata": {
            "tags": []
          },
          "execution_count": 108
        }
      ]
    },
    {
      "cell_type": "code",
      "metadata": {
        "id": "YV8v5iRd710e"
      },
      "source": [
        "# chart = sns.countplot(data.age)"
      ],
      "execution_count": 109,
      "outputs": []
    },
    {
      "cell_type": "code",
      "metadata": {
        "colab": {
          "base_uri": "https://localhost:8080/",
          "height": 335
        },
        "id": "QFdMkyxW9cIQ",
        "outputId": "b2e96c5f-fd87-4e7e-a0c6-e7c308ac22da"
      },
      "source": [
        "bar1 = sns.countplot(data.gender)\n",
        "\n"
      ],
      "execution_count": 110,
      "outputs": [
        {
          "output_type": "stream",
          "text": [
            "/usr/local/lib/python3.7/dist-packages/seaborn/_decorators.py:43: FutureWarning: Pass the following variable as a keyword arg: x. From version 0.12, the only valid positional argument will be `data`, and passing other arguments without an explicit keyword will result in an error or misinterpretation.\n",
            "  FutureWarning\n"
          ],
          "name": "stderr"
        },
        {
          "output_type": "display_data",
          "data": {
            "image/png": "[encoded data removed]",
            "text/plain": [
              "<Figure size 432x288 with 1 Axes>"
            ]
          },
          "metadata": {
            "tags": [],
            "needs_background": "light"
          }
        }
      ]
    },
    {
      "cell_type": "code",
      "metadata": {
        "colab": {
          "base_uri": "https://localhost:8080/",
          "height": 353
        },
        "id": "iu-1_bjO_MQO",
        "outputId": "dfa03a27-e844-42f5-ed63-93e0d3a9dfa1"
      },
      "source": [
        "sns.countplot(test_data.gender)"
      ],
      "execution_count": 111,
      "outputs": [
        {
          "output_type": "stream",
          "text": [
            "/usr/local/lib/python3.7/dist-packages/seaborn/_decorators.py:43: FutureWarning: Pass the following variable as a keyword arg: x. From version 0.12, the only valid positional argument will be `data`, and passing other arguments without an explicit keyword will result in an error or misinterpretation.\n",
            "  FutureWarning\n"
          ],
          "name": "stderr"
        },
        {
          "output_type": "execute_result",
          "data": {
            "text/plain": [
              "<matplotlib.axes._subplots.AxesSubplot at 0x7f96c89d8810>"
            ]
          },
          "metadata": {
            "tags": []
          },
          "execution_count": 111
        },
        {
          "output_type": "display_data",
          "data": {
            "image/png": "[encoded data removed]",
            "text/plain": [
              "<Figure size 432x288 with 1 Axes>"
            ]
          },
          "metadata": {
            "tags": [],
            "needs_background": "light"
          }
        }
      ]
    },
    {
      "cell_type": "code",
      "metadata": {
        "colab": {
          "base_uri": "https://localhost:8080/",
          "height": 354
        },
        "id": "vvZ8zhgf9oCc",
        "outputId": "02066cee-b3b7-464f-83c8-b56d71d2f9b6"
      },
      "source": [
        "sns.countplot(data.region_category)"
      ],
      "execution_count": 112,
      "outputs": [
        {
          "output_type": "stream",
          "text": [
            "/usr/local/lib/python3.7/dist-packages/seaborn/_decorators.py:43: FutureWarning: Pass the following variable as a keyword arg: x. From version 0.12, the only valid positional argument will be `data`, and passing other arguments without an explicit keyword will result in an error or misinterpretation.\n",
            "  FutureWarning\n"
          ],
          "name": "stderr"
        },
        {
          "output_type": "execute_result",
          "data": {
            "text/plain": [
              "<matplotlib.axes._subplots.AxesSubplot at 0x7f96cce96ed0>"
            ]
          },
          "metadata": {
            "tags": []
          },
          "execution_count": 112
        },
        {
          "output_type": "display_data",
          "data": {
            "image/png": "[encoded data removed]",
            "text/plain": [
              "<Figure size 432x288 with 1 Axes>"
            ]
          },
          "metadata": {
            "tags": [],
            "needs_background": "light"
          }
        }
      ]
    },
    {
      "cell_type": "code",
      "metadata": {
        "colab": {
          "base_uri": "https://localhost:8080/",
          "height": 390
        },
        "id": "TlLpooXk9zXY",
        "outputId": "d0d08709-e8e5-4989-87be-da0f3d4c59f5"
      },
      "source": [
        "print(sns.countplot(test_data.region_category), sns.countplot(data.region_category))"
      ],
      "execution_count": 113,
      "outputs": [
        {
          "output_type": "stream",
          "text": [
            "/usr/local/lib/python3.7/dist-packages/seaborn/_decorators.py:43: FutureWarning: Pass the following variable as a keyword arg: x. From version 0.12, the only valid positional argument will be `data`, and passing other arguments without an explicit keyword will result in an error or misinterpretation.\n",
            "  FutureWarning\n",
            "/usr/local/lib/python3.7/dist-packages/seaborn/_decorators.py:43: FutureWarning: Pass the following variable as a keyword arg: x. From version 0.12, the only valid positional argument will be `data`, and passing other arguments without an explicit keyword will result in an error or misinterpretation.\n",
            "  FutureWarning\n"
          ],
          "name": "stderr"
        },
        {
          "output_type": "stream",
          "text": [
            "AxesSubplot(0.125,0.125;0.775x0.755) AxesSubplot(0.125,0.125;0.775x0.755)\n"
          ],
          "name": "stdout"
        },
        {
          "output_type": "display_data",
          "data": {
            "image/png": "[encoded data removed]",
            "text/plain": [
              "<Figure size 432x288 with 1 Axes>"
            ]
          },
          "metadata": {
            "tags": [],
            "needs_background": "light"
          }
        }
      ]
    },
    {
      "cell_type": "code",
      "metadata": {
        "colab": {
          "base_uri": "https://localhost:8080/",
          "height": 354
        },
        "id": "pXwgctbEG2-o",
        "outputId": "abe804ed-f2e5-4d13-80b5-e851671c5c60"
      },
      "source": [
        "sns.countplot(data.region_category)"
      ],
      "execution_count": 114,
      "outputs": [
        {
          "output_type": "stream",
          "text": [
            "/usr/local/lib/python3.7/dist-packages/seaborn/_decorators.py:43: FutureWarning: Pass the following variable as a keyword arg: x. From version 0.12, the only valid positional argument will be `data`, and passing other arguments without an explicit keyword will result in an error or misinterpretation.\n",
            "  FutureWarning\n"
          ],
          "name": "stderr"
        },
        {
          "output_type": "execute_result",
          "data": {
            "text/plain": [
              "<matplotlib.axes._subplots.AxesSubplot at 0x7f96c888d6d0>"
            ]
          },
          "metadata": {
            "tags": []
          },
          "execution_count": 114
        },
        {
          "output_type": "display_data",
          "data": {
            "image/png": "[encoded data removed]",
            "text/plain": [
              "<Figure size 432x288 with 1 Axes>"
            ]
          },
          "metadata": {
            "tags": [],
            "needs_background": "light"
          }
        }
      ]
    },
    {
      "cell_type": "code",
      "metadata": {
        "colab": {
          "base_uri": "https://localhost:8080/",
          "height": 358
        },
        "id": "vSLiwURIG3A5",
        "outputId": "b6e8a132-4db6-4085-cde6-fae5e66cc307"
      },
      "source": [
        "sns.countplot(test_data.region_category)"
      ],
      "execution_count": 115,
      "outputs": [
        {
          "output_type": "stream",
          "text": [
            "/usr/local/lib/python3.7/dist-packages/seaborn/_decorators.py:43: FutureWarning: Pass the following variable as a keyword arg: x. From version 0.12, the only valid positional argument will be `data`, and passing other arguments without an explicit keyword will result in an error or misinterpretation.\n",
            "  FutureWarning\n"
          ],
          "name": "stderr"
        },
        {
          "output_type": "execute_result",
          "data": {
            "text/plain": [
              "<matplotlib.axes._subplots.AxesSubplot at 0x7f96c87f10d0>"
            ]
          },
          "metadata": {
            "tags": []
          },
          "execution_count": 115
        },
        {
          "output_type": "display_data",
          "data": {
            "image/png": "[encoded data removed]",
            "text/plain": [
              "<Figure size 432x288 with 1 Axes>"
            ]
          },
          "metadata": {
            "tags": [],
            "needs_background": "light"
          }
        }
      ]
    },
    {
      "cell_type": "code",
      "metadata": {
        "colab": {
          "base_uri": "https://localhost:8080/",
          "height": 498
        },
        "id": "P0aa6EGsG3Dl",
        "outputId": "4e33bd57-1f3f-436b-f7fc-72dc65108389"
      },
      "source": [
        "chart = sns.countplot(test_data.membership_category)\n",
        "chart.set_xticklabels(chart.get_xticklabels(), rotation=30, horizontalalignment='right' )"
      ],
      "execution_count": 116,
      "outputs": [
        {
          "output_type": "stream",
          "text": [
            "/usr/local/lib/python3.7/dist-packages/seaborn/_decorators.py:43: FutureWarning: Pass the following variable as a keyword arg: x. From version 0.12, the only valid positional argument will be `data`, and passing other arguments without an explicit keyword will result in an error or misinterpretation.\n",
            "  FutureWarning\n"
          ],
          "name": "stderr"
        },
        {
          "output_type": "execute_result",
          "data": {
            "text/plain": [
              "[Text(0, 0, 'Premium Membership'),\n",
              " Text(0, 0, 'Gold Membership'),\n",
              " Text(0, 0, 'Silver Membership'),\n",
              " Text(0, 0, 'No Membership'),\n",
              " Text(0, 0, 'Basic Membership'),\n",
              " Text(0, 0, 'Platinum Membership')]"
            ]
          },
          "metadata": {
            "tags": []
          },
          "execution_count": 116
        },
        {
          "output_type": "display_data",
          "data": {
            "image/png": "[encoded data removed]",
            "text/plain": [
              "<Figure size 432x288 with 1 Axes>"
            ]
          },
          "metadata": {
            "tags": [],
            "needs_background": "light"
          }
        }
      ]
    },
    {
      "cell_type": "code",
      "metadata": {
        "colab": {
          "base_uri": "https://localhost:8080/",
          "height": 500
        },
        "id": "OgHu2c3cG3GD",
        "outputId": "49880ba6-80e7-4da1-a09b-2f14a21dae3e"
      },
      "source": [
        "chart = sns.countplot(data.membership_category)\n",
        "chart.set_xticklabels(chart.get_xticklabels(), rotation=30, horizontalalignment='right' )"
      ],
      "execution_count": 117,
      "outputs": [
        {
          "output_type": "stream",
          "text": [
            "/usr/local/lib/python3.7/dist-packages/seaborn/_decorators.py:43: FutureWarning: Pass the following variable as a keyword arg: x. From version 0.12, the only valid positional argument will be `data`, and passing other arguments without an explicit keyword will result in an error or misinterpretation.\n",
            "  FutureWarning\n"
          ],
          "name": "stderr"
        },
        {
          "output_type": "execute_result",
          "data": {
            "text/plain": [
              "[Text(0, 0, 'Platinum Membership'),\n",
              " Text(0, 0, 'Premium Membership'),\n",
              " Text(0, 0, 'No Membership'),\n",
              " Text(0, 0, 'Gold Membership'),\n",
              " Text(0, 0, 'Silver Membership'),\n",
              " Text(0, 0, 'Basic Membership')]"
            ]
          },
          "metadata": {
            "tags": []
          },
          "execution_count": 117
        },
        {
          "output_type": "display_data",
          "data": {
            "image/png": "[encoded data removed]",
            "text/plain": [
              "<Figure size 432x288 with 1 Axes>"
            ]
          },
          "metadata": {
            "tags": [],
            "needs_background": "light"
          }
        }
      ]
    },
    {
      "cell_type": "code",
      "metadata": {
        "colab": {
          "base_uri": "https://localhost:8080/",
          "height": 354
        },
        "id": "ag14Ua5pG3Iz",
        "outputId": "38af3157-f2c3-4d1f-efde-888ffa78c8de"
      },
      "source": [
        "sns.countplot(test_data.joined_through_referral)"
      ],
      "execution_count": 118,
      "outputs": [
        {
          "output_type": "stream",
          "text": [
            "/usr/local/lib/python3.7/dist-packages/seaborn/_decorators.py:43: FutureWarning: Pass the following variable as a keyword arg: x. From version 0.12, the only valid positional argument will be `data`, and passing other arguments without an explicit keyword will result in an error or misinterpretation.\n",
            "  FutureWarning\n"
          ],
          "name": "stderr"
        },
        {
          "output_type": "execute_result",
          "data": {
            "text/plain": [
              "<matplotlib.axes._subplots.AxesSubplot at 0x7f96c87254d0>"
            ]
          },
          "metadata": {
            "tags": []
          },
          "execution_count": 118
        },
        {
          "output_type": "display_data",
          "data": {
            "image/png": "[encoded data removed]",
            "text/plain": [
              "<Figure size 432x288 with 1 Axes>"
            ]
          },
          "metadata": {
            "tags": [],
            "needs_background": "light"
          }
        }
      ]
    },
    {
      "cell_type": "code",
      "metadata": {
        "colab": {
          "base_uri": "https://localhost:8080/",
          "height": 354
        },
        "id": "f0buVJgeG3LR",
        "outputId": "137de11b-7ee8-4c43-ce25-fde538636d39"
      },
      "source": [
        "sns.countplot(data.joined_through_referral)"
      ],
      "execution_count": 119,
      "outputs": [
        {
          "output_type": "stream",
          "text": [
            "/usr/local/lib/python3.7/dist-packages/seaborn/_decorators.py:43: FutureWarning: Pass the following variable as a keyword arg: x. From version 0.12, the only valid positional argument will be `data`, and passing other arguments without an explicit keyword will result in an error or misinterpretation.\n",
            "  FutureWarning\n"
          ],
          "name": "stderr"
        },
        {
          "output_type": "execute_result",
          "data": {
            "text/plain": [
              "<matplotlib.axes._subplots.AxesSubplot at 0x7f96c86a2d50>"
            ]
          },
          "metadata": {
            "tags": []
          },
          "execution_count": 119
        },
        {
          "output_type": "display_data",
          "data": {
            "image/png": "[encoded data removed]",
            "text/plain": [
              "<Figure size 432x288 with 1 Axes>"
            ]
          },
          "metadata": {
            "tags": [],
            "needs_background": "light"
          }
        }
      ]
    },
    {
      "cell_type": "code",
      "metadata": {
        "colab": {
          "base_uri": "https://localhost:8080/",
          "height": 354
        },
        "id": "HPt6CBnwG3N6",
        "outputId": "becf580f-08db-4eb5-b186-9cf67d094221"
      },
      "source": [
        "sns.countplot(data.preferred_offer_types)"
      ],
      "execution_count": 120,
      "outputs": [
        {
          "output_type": "stream",
          "text": [
            "/usr/local/lib/python3.7/dist-packages/seaborn/_decorators.py:43: FutureWarning: Pass the following variable as a keyword arg: x. From version 0.12, the only valid positional argument will be `data`, and passing other arguments without an explicit keyword will result in an error or misinterpretation.\n",
            "  FutureWarning\n"
          ],
          "name": "stderr"
        },
        {
          "output_type": "execute_result",
          "data": {
            "text/plain": [
              "<matplotlib.axes._subplots.AxesSubplot at 0x7f96c8618310>"
            ]
          },
          "metadata": {
            "tags": []
          },
          "execution_count": 120
        },
        {
          "output_type": "display_data",
          "data": {
            "image/png": "[encoded data removed]",
            "text/plain": [
              "<Figure size 432x288 with 1 Axes>"
            ]
          },
          "metadata": {
            "tags": [],
            "needs_background": "light"
          }
        }
      ]
    },
    {
      "cell_type": "code",
      "metadata": {
        "colab": {
          "base_uri": "https://localhost:8080/",
          "height": 354
        },
        "id": "LKkuXrSvIqLw",
        "outputId": "aa20ed8f-6b51-41f4-a741-4e4444d8f8fc"
      },
      "source": [
        "sns.countplot(test_data.preferred_offer_types)"
      ],
      "execution_count": 121,
      "outputs": [
        {
          "output_type": "stream",
          "text": [
            "/usr/local/lib/python3.7/dist-packages/seaborn/_decorators.py:43: FutureWarning: Pass the following variable as a keyword arg: x. From version 0.12, the only valid positional argument will be `data`, and passing other arguments without an explicit keyword will result in an error or misinterpretation.\n",
            "  FutureWarning\n"
          ],
          "name": "stderr"
        },
        {
          "output_type": "execute_result",
          "data": {
            "text/plain": [
              "<matplotlib.axes._subplots.AxesSubplot at 0x7f96c85ea210>"
            ]
          },
          "metadata": {
            "tags": []
          },
          "execution_count": 121
        },
        {
          "output_type": "display_data",
          "data": {
            "image/png": "[encoded data removed]",
            "text/plain": [
              "<Figure size 432x288 with 1 Axes>"
            ]
          },
          "metadata": {
            "tags": [],
            "needs_background": "light"
          }
        }
      ]
    },
    {
      "cell_type": "code",
      "metadata": {
        "colab": {
          "base_uri": "https://localhost:8080/",
          "height": 354
        },
        "id": "uAN3IogHG3Qz",
        "outputId": "88bdebb6-ff21-45ee-8655-2e47880bc54a"
      },
      "source": [
        "sns.countplot(data.medium_of_operation)"
      ],
      "execution_count": 122,
      "outputs": [
        {
          "output_type": "stream",
          "text": [
            "/usr/local/lib/python3.7/dist-packages/seaborn/_decorators.py:43: FutureWarning: Pass the following variable as a keyword arg: x. From version 0.12, the only valid positional argument will be `data`, and passing other arguments without an explicit keyword will result in an error or misinterpretation.\n",
            "  FutureWarning\n"
          ],
          "name": "stderr"
        },
        {
          "output_type": "execute_result",
          "data": {
            "text/plain": [
              "<matplotlib.axes._subplots.AxesSubplot at 0x7f96c8550d90>"
            ]
          },
          "metadata": {
            "tags": []
          },
          "execution_count": 122
        },
        {
          "output_type": "display_data",
          "data": {
            "image/png": "[encoded data removed]",
            "text/plain": [
              "<Figure size 432x288 with 1 Axes>"
            ]
          },
          "metadata": {
            "tags": [],
            "needs_background": "light"
          }
        }
      ]
    },
    {
      "cell_type": "code",
      "metadata": {
        "colab": {
          "base_uri": "https://localhost:8080/",
          "height": 354
        },
        "id": "g97oOKX3I8Ow",
        "outputId": "6af17a62-c14c-4a4b-cc43-589cd9566fc1"
      },
      "source": [
        "sns.countplot(test_data.medium_of_operation)"
      ],
      "execution_count": 123,
      "outputs": [
        {
          "output_type": "stream",
          "text": [
            "/usr/local/lib/python3.7/dist-packages/seaborn/_decorators.py:43: FutureWarning: Pass the following variable as a keyword arg: x. From version 0.12, the only valid positional argument will be `data`, and passing other arguments without an explicit keyword will result in an error or misinterpretation.\n",
            "  FutureWarning\n"
          ],
          "name": "stderr"
        },
        {
          "output_type": "execute_result",
          "data": {
            "text/plain": [
              "<matplotlib.axes._subplots.AxesSubplot at 0x7f96cc351290>"
            ]
          },
          "metadata": {
            "tags": []
          },
          "execution_count": 123
        },
        {
          "output_type": "display_data",
          "data": {
            "image/png": "[encoded data removed]",
            "text/plain": [
              "<Figure size 432x288 with 1 Axes>"
            ]
          },
          "metadata": {
            "tags": [],
            "needs_background": "light"
          }
        }
      ]
    },
    {
      "cell_type": "code",
      "metadata": {
        "colab": {
          "base_uri": "https://localhost:8080/"
        },
        "id": "eVGyugYtJH7D",
        "outputId": "8f9c39b5-8931-4a9a-8622-aa148d664d41"
      },
      "source": [
        "data.columns"
      ],
      "execution_count": 124,
      "outputs": [
        {
          "output_type": "execute_result",
          "data": {
            "text/plain": [
              "Index(['customer_id', 'Name', 'age', 'gender', 'security_no',\n",
              "       'region_category', 'membership_category', 'joining_date',\n",
              "       'joined_through_referral', 'referral_id', 'preferred_offer_types',\n",
              "       'medium_of_operation', 'internet_option', 'last_visit_time',\n",
              "       'days_since_last_login', 'avg_time_spent', 'avg_transaction_value',\n",
              "       'avg_frequency_login_days', 'points_in_wallet', 'used_special_discount',\n",
              "       'offer_application_preference', 'past_complaint', 'complaint_status',\n",
              "       'feedback', 'churn_risk_score'],\n",
              "      dtype='object')"
            ]
          },
          "metadata": {
            "tags": []
          },
          "execution_count": 124
        }
      ]
    },
    {
      "cell_type": "code",
      "metadata": {
        "id": "h_KcO73cJH3s"
      },
      "source": [
        ""
      ],
      "execution_count": 124,
      "outputs": []
    },
    {
      "cell_type": "code",
      "metadata": {
        "id": "5ftno17O7dta"
      },
      "source": [
        "# columns to drop\n",
        "cols = ['customer_id', 'Name', 'security_no', 'security_no','referral_id', 'region_category' ]\n",
        "df = data.drop(cols, axis=1)\n",
        "test_df = test_data.drop(cols, axis=1)"
      ],
      "execution_count": 125,
      "outputs": []
    },
    {
      "cell_type": "code",
      "metadata": {
        "colab": {
          "base_uri": "https://localhost:8080/"
        },
        "id": "HYBe8jqwJ8Sh",
        "outputId": "19d3606b-80c7-48b8-f173-7fb37f45dcad"
      },
      "source": [
        "df.shape, test_df.shape"
      ],
      "execution_count": 126,
      "outputs": [
        {
          "output_type": "execute_result",
          "data": {
            "text/plain": [
              "((36992, 20), (19919, 19))"
            ]
          },
          "metadata": {
            "tags": []
          },
          "execution_count": 126
        }
      ]
    },
    {
      "cell_type": "code",
      "metadata": {
        "colab": {
          "base_uri": "https://localhost:8080/"
        },
        "id": "tGPa0TePKCVR",
        "outputId": "3274333b-c8b9-4908-8eca-d7efcecda51a"
      },
      "source": [
        "df.isnull().sum()"
      ],
      "execution_count": 127,
      "outputs": [
        {
          "output_type": "execute_result",
          "data": {
            "text/plain": [
              "age                                0\n",
              "gender                             0\n",
              "membership_category                0\n",
              "joining_date                       0\n",
              "joined_through_referral            0\n",
              "preferred_offer_types            288\n",
              "medium_of_operation                0\n",
              "internet_option                    0\n",
              "last_visit_time                    0\n",
              "days_since_last_login              0\n",
              "avg_time_spent                     0\n",
              "avg_transaction_value              0\n",
              "avg_frequency_login_days           0\n",
              "points_in_wallet                3443\n",
              "used_special_discount              0\n",
              "offer_application_preference       0\n",
              "past_complaint                     0\n",
              "complaint_status                   0\n",
              "feedback                           0\n",
              "churn_risk_score                   0\n",
              "dtype: int64"
            ]
          },
          "metadata": {
            "tags": []
          },
          "execution_count": 127
        }
      ]
    },
    {
      "cell_type": "code",
      "metadata": {
        "id": "xkGwUGc2KCR5"
      },
      "source": [
        "df.dropna(axis=0, inplace=True)"
      ],
      "execution_count": 128,
      "outputs": []
    },
    {
      "cell_type": "code",
      "metadata": {
        "colab": {
          "base_uri": "https://localhost:8080/"
        },
        "id": "Qz8Fzo4GKoj-",
        "outputId": "cd8de986-2e30-42e8-d4b9-d0c8dd3926ee"
      },
      "source": [
        "test_df.isnull().sum()"
      ],
      "execution_count": 129,
      "outputs": [
        {
          "output_type": "execute_result",
          "data": {
            "text/plain": [
              "age                                0\n",
              "gender                             0\n",
              "membership_category                0\n",
              "joining_date                       0\n",
              "joined_through_referral            0\n",
              "preferred_offer_types            159\n",
              "medium_of_operation                0\n",
              "internet_option                    0\n",
              "last_visit_time                    0\n",
              "days_since_last_login              0\n",
              "avg_time_spent                     0\n",
              "avg_transaction_value              0\n",
              "avg_frequency_login_days           0\n",
              "points_in_wallet                1963\n",
              "used_special_discount              0\n",
              "offer_application_preference       0\n",
              "past_complaint                     0\n",
              "complaint_status                   0\n",
              "feedback                           0\n",
              "dtype: int64"
            ]
          },
          "metadata": {
            "tags": []
          },
          "execution_count": 129
        }
      ]
    },
    {
      "cell_type": "code",
      "metadata": {
        "colab": {
          "base_uri": "https://localhost:8080/"
        },
        "id": "_zq0D3ElKtRJ",
        "outputId": "b889601d-caaa-4bf2-cdef-37dfd9640e1f"
      },
      "source": [
        "Counter( test_df.preferred_offer_types)"
      ],
      "execution_count": 130,
      "outputs": [
        {
          "output_type": "execute_result",
          "data": {
            "text/plain": [
              "Counter({'Credit/Debit Card Offers': 6602,\n",
              "         'Gift Vouchers/Coupons': 6495,\n",
              "         'Without Offers': 6663,\n",
              "         nan: 159})"
            ]
          },
          "metadata": {
            "tags": []
          },
          "execution_count": 130
        }
      ]
    },
    {
      "cell_type": "code",
      "metadata": {
        "id": "SBNWvkNDLxWY"
      },
      "source": [
        "test_df.preferred_offer_types.fillna(value='Without Offers', inplace=True)"
      ],
      "execution_count": 131,
      "outputs": []
    },
    {
      "cell_type": "code",
      "metadata": {
        "id": "U9pmthEZK8MM"
      },
      "source": [
        "test_df.points_in_wallet.fillna(value = test_df.points_in_wallet.mean(), inplace=True)"
      ],
      "execution_count": 132,
      "outputs": []
    },
    {
      "cell_type": "code",
      "metadata": {
        "colab": {
          "base_uri": "https://localhost:8080/"
        },
        "id": "xL0gksW-MXmI",
        "outputId": "abc88203-a214-4d1d-d9dd-0dbcb74ca750"
      },
      "source": [
        "test_df.isnull().sum()"
      ],
      "execution_count": 133,
      "outputs": [
        {
          "output_type": "execute_result",
          "data": {
            "text/plain": [
              "age                             0\n",
              "gender                          0\n",
              "membership_category             0\n",
              "joining_date                    0\n",
              "joined_through_referral         0\n",
              "preferred_offer_types           0\n",
              "medium_of_operation             0\n",
              "internet_option                 0\n",
              "last_visit_time                 0\n",
              "days_since_last_login           0\n",
              "avg_time_spent                  0\n",
              "avg_transaction_value           0\n",
              "avg_frequency_login_days        0\n",
              "points_in_wallet                0\n",
              "used_special_discount           0\n",
              "offer_application_preference    0\n",
              "past_complaint                  0\n",
              "complaint_status                0\n",
              "feedback                        0\n",
              "dtype: int64"
            ]
          },
          "metadata": {
            "tags": []
          },
          "execution_count": 133
        }
      ]
    },
    {
      "cell_type": "code",
      "metadata": {
        "colab": {
          "base_uri": "https://localhost:8080/"
        },
        "id": "4b7Nk42RMZlJ",
        "outputId": "fcdf7827-7148-4722-b69d-d18503983448"
      },
      "source": [
        "df.isnull().sum()"
      ],
      "execution_count": 134,
      "outputs": [
        {
          "output_type": "execute_result",
          "data": {
            "text/plain": [
              "age                             0\n",
              "gender                          0\n",
              "membership_category             0\n",
              "joining_date                    0\n",
              "joined_through_referral         0\n",
              "preferred_offer_types           0\n",
              "medium_of_operation             0\n",
              "internet_option                 0\n",
              "last_visit_time                 0\n",
              "days_since_last_login           0\n",
              "avg_time_spent                  0\n",
              "avg_transaction_value           0\n",
              "avg_frequency_login_days        0\n",
              "points_in_wallet                0\n",
              "used_special_discount           0\n",
              "offer_application_preference    0\n",
              "past_complaint                  0\n",
              "complaint_status                0\n",
              "feedback                        0\n",
              "churn_risk_score                0\n",
              "dtype: int64"
            ]
          },
          "metadata": {
            "tags": []
          },
          "execution_count": 134
        }
      ]
    },
    {
      "cell_type": "code",
      "metadata": {
        "colab": {
          "base_uri": "https://localhost:8080/",
          "height": 354
        },
        "id": "qDF7jo0sMchA",
        "outputId": "ad4cb310-8c2d-4388-9136-f7395c52afd4"
      },
      "source": [
        "# so now null values are handled\n",
        "sns.countplot(df.churn_risk_score)"
      ],
      "execution_count": 135,
      "outputs": [
        {
          "output_type": "stream",
          "text": [
            "/usr/local/lib/python3.7/dist-packages/seaborn/_decorators.py:43: FutureWarning: Pass the following variable as a keyword arg: x. From version 0.12, the only valid positional argument will be `data`, and passing other arguments without an explicit keyword will result in an error or misinterpretation.\n",
            "  FutureWarning\n"
          ],
          "name": "stderr"
        },
        {
          "output_type": "execute_result",
          "data": {
            "text/plain": [
              "<matplotlib.axes._subplots.AxesSubplot at 0x7f96caf66750>"
            ]
          },
          "metadata": {
            "tags": []
          },
          "execution_count": 135
        },
        {
          "output_type": "display_data",
          "data": {
            "image/png": "[encoded data removed]",
            "text/plain": [
              "<Figure size 432x288 with 1 Axes>"
            ]
          },
          "metadata": {
            "tags": [],
            "needs_background": "light"
          }
        }
      ]
    },
    {
      "cell_type": "code",
      "metadata": {
        "id": "EEgpvS5FNmeg"
      },
      "source": [
        "# so drop rows which contains -1 as the churn risk score, because it is given in question that churn_risk_score ranges from 1 to 5 only\n",
        "df.drop(df[df.churn_risk_score == -1].index, inplace=True, axis=0)"
      ],
      "execution_count": 136,
      "outputs": []
    },
    {
      "cell_type": "code",
      "metadata": {
        "id": "wPBVO0SXM3Xn"
      },
      "source": [
        "labels = df.churn_risk_score\n",
        "train_df =  df.drop('churn_risk_score', axis=1)"
      ],
      "execution_count": 137,
      "outputs": []
    },
    {
      "cell_type": "code",
      "metadata": {
        "colab": {
          "base_uri": "https://localhost:8080/"
        },
        "id": "NHie7v1ANABy",
        "outputId": "4fff6f09-a3fa-4139-f9ba-fa6555970c85"
      },
      "source": [
        "df.shape, labels.shape, test_df.shape"
      ],
      "execution_count": 138,
      "outputs": [
        {
          "output_type": "execute_result",
          "data": {
            "text/plain": [
              "((32238, 20), (32238,), (19919, 19))"
            ]
          },
          "metadata": {
            "tags": []
          },
          "execution_count": 138
        }
      ]
    },
    {
      "cell_type": "code",
      "metadata": {
        "id": "thcEil0TOTYY"
      },
      "source": [
        "from sklearn.preprocessing import OrdinalEncoder, LabelEncoder\n",
        "from keras.utils.np_utils import to_categorical\n",
        "encode_x = OrdinalEncoder()\n",
        "encode_y = LabelEncoder()\n",
        "\n",
        "def encode_data(df):\n",
        "    df = pd.DataFrame( encode_x.fit_transform(df))\n",
        "    df+=1\n",
        "    return df\n",
        "def encode_labels(labels):\n",
        "    target = encode_y.fit_transform(labels)\n",
        "    target = to_categorical(target)\n",
        "    return target\n",
        "\n",
        "def normalize(df):   \n",
        "    from sklearn.preprocessing import StandardScaler\n",
        "    scaler = StandardScaler()\n",
        "    norm_data = pd.DataFrame(scaler.fit_transform(df))\n",
        "    return norm_data\n",
        "\n"
      ],
      "execution_count": 139,
      "outputs": []
    },
    {
      "cell_type": "code",
      "metadata": {
        "id": "7Iebty0DOoew"
      },
      "source": [
        "train_df = encode_data(train_df)\n",
        "test_df = encode_data(test_df)"
      ],
      "execution_count": 140,
      "outputs": []
    },
    {
      "cell_type": "code",
      "metadata": {
        "id": "w9YJiEHzO43D"
      },
      "source": [
        "target = encode_labels(labels)"
      ],
      "execution_count": 142,
      "outputs": []
    },
    {
      "cell_type": "code",
      "metadata": {
        "colab": {
          "base_uri": "https://localhost:8080/",
          "height": 204
        },
        "id": "Ut_AgOI4OwVw",
        "outputId": "66d63f7f-d2d1-4238-e378-07812ac65606"
      },
      "source": [
        "train_df.head()"
      ],
      "execution_count": 141,
      "outputs": [
        {
          "output_type": "execute_result",
          "data": {
            "text/html": [
              "<div>\n",
              "<style scoped>\n",
              "    .dataframe tbody tr th:only-of-type {\n",
              "        vertical-align: middle;\n",
              "    }\n",
              "\n",
              "    .dataframe tbody tr th {\n",
              "        vertical-align: top;\n",
              "    }\n",
              "\n",
              "    .dataframe thead th {\n",
              "        text-align: right;\n",
              "    }\n",
              "</style>\n",
              "<table border=\"1\" class=\"dataframe\">\n",
              "  <thead>\n",
              "    <tr style=\"text-align: right;\">\n",
              "      <th></th>\n",
              "      <th>0</th>\n",
              "      <th>1</th>\n",
              "      <th>2</th>\n",
              "      <th>3</th>\n",
              "      <th>4</th>\n",
              "      <th>5</th>\n",
              "      <th>6</th>\n",
              "      <th>7</th>\n",
              "      <th>8</th>\n",
              "      <th>9</th>\n",
              "      <th>10</th>\n",
              "      <th>11</th>\n",
              "      <th>12</th>\n",
              "      <th>13</th>\n",
              "      <th>14</th>\n",
              "      <th>15</th>\n",
              "      <th>16</th>\n",
              "      <th>17</th>\n",
              "      <th>18</th>\n",
              "    </tr>\n",
              "  </thead>\n",
              "  <tbody>\n",
              "    <tr>\n",
              "      <th>0</th>\n",
              "      <td>9.0</td>\n",
              "      <td>1.0</td>\n",
              "      <td>4.0</td>\n",
              "      <td>960.0</td>\n",
              "      <td>2.0</td>\n",
              "      <td>2.0</td>\n",
              "      <td>1.0</td>\n",
              "      <td>3.0</td>\n",
              "      <td>18103.0</td>\n",
              "      <td>18.0</td>\n",
              "      <td>14173.0</td>\n",
              "      <td>29774.0</td>\n",
              "      <td>642.0</td>\n",
              "      <td>17972.0</td>\n",
              "      <td>2.0</td>\n",
              "      <td>2.0</td>\n",
              "      <td>1.0</td>\n",
              "      <td>2.0</td>\n",
              "      <td>5.0</td>\n",
              "    </tr>\n",
              "    <tr>\n",
              "      <th>1</th>\n",
              "      <td>35.0</td>\n",
              "      <td>1.0</td>\n",
              "      <td>3.0</td>\n",
              "      <td>681.0</td>\n",
              "      <td>3.0</td>\n",
              "      <td>2.0</td>\n",
              "      <td>3.0</td>\n",
              "      <td>3.0</td>\n",
              "      <td>25668.0</td>\n",
              "      <td>15.0</td>\n",
              "      <td>18409.0</td>\n",
              "      <td>12168.0</td>\n",
              "      <td>671.0</td>\n",
              "      <td>2735.0</td>\n",
              "      <td>1.0</td>\n",
              "      <td>2.0</td>\n",
              "      <td>2.0</td>\n",
              "      <td>4.0</td>\n",
              "      <td>4.0</td>\n",
              "    </tr>\n",
              "    <tr>\n",
              "      <th>2</th>\n",
              "      <td>28.0</td>\n",
              "      <td>2.0</td>\n",
              "      <td>3.0</td>\n",
              "      <td>668.0</td>\n",
              "      <td>3.0</td>\n",
              "      <td>2.0</td>\n",
              "      <td>3.0</td>\n",
              "      <td>2.0</td>\n",
              "      <td>17908.0</td>\n",
              "      <td>12.0</td>\n",
              "      <td>3211.0</td>\n",
              "      <td>14683.0</td>\n",
              "      <td>1408.0</td>\n",
              "      <td>4961.0</td>\n",
              "      <td>1.0</td>\n",
              "      <td>2.0</td>\n",
              "      <td>2.0</td>\n",
              "      <td>5.0</td>\n",
              "      <td>4.0</td>\n",
              "    </tr>\n",
              "    <tr>\n",
              "      <th>3</th>\n",
              "      <td>22.0</td>\n",
              "      <td>1.0</td>\n",
              "      <td>3.0</td>\n",
              "      <td>986.0</td>\n",
              "      <td>2.0</td>\n",
              "      <td>1.0</td>\n",
              "      <td>4.0</td>\n",
              "      <td>2.0</td>\n",
              "      <td>17701.0</td>\n",
              "      <td>21.0</td>\n",
              "      <td>6718.0</td>\n",
              "      <td>14190.0</td>\n",
              "      <td>640.0</td>\n",
              "      <td>9917.0</td>\n",
              "      <td>1.0</td>\n",
              "      <td>2.0</td>\n",
              "      <td>2.0</td>\n",
              "      <td>3.0</td>\n",
              "      <td>4.0</td>\n",
              "    </tr>\n",
              "    <tr>\n",
              "      <th>4</th>\n",
              "      <td>4.0</td>\n",
              "      <td>2.0</td>\n",
              "      <td>2.0</td>\n",
              "      <td>373.0</td>\n",
              "      <td>2.0</td>\n",
              "      <td>2.0</td>\n",
              "      <td>1.0</td>\n",
              "      <td>3.0</td>\n",
              "      <td>7568.0</td>\n",
              "      <td>24.0</td>\n",
              "      <td>17161.0</td>\n",
              "      <td>7879.0</td>\n",
              "      <td>674.0</td>\n",
              "      <td>13977.0</td>\n",
              "      <td>2.0</td>\n",
              "      <td>1.0</td>\n",
              "      <td>2.0</td>\n",
              "      <td>5.0</td>\n",
              "      <td>1.0</td>\n",
              "    </tr>\n",
              "  </tbody>\n",
              "</table>\n",
              "</div>"
            ],
            "text/plain": [
              "     0    1    2      3    4    5   ...       13   14   15   16   17   18\n",
              "0   9.0  1.0  4.0  960.0  2.0  2.0  ...  17972.0  2.0  2.0  1.0  2.0  5.0\n",
              "1  35.0  1.0  3.0  681.0  3.0  2.0  ...   2735.0  1.0  2.0  2.0  4.0  4.0\n",
              "2  28.0  2.0  3.0  668.0  3.0  2.0  ...   4961.0  1.0  2.0  2.0  5.0  4.0\n",
              "3  22.0  1.0  3.0  986.0  2.0  1.0  ...   9917.0  1.0  2.0  2.0  3.0  4.0\n",
              "4   4.0  2.0  2.0  373.0  2.0  2.0  ...  13977.0  2.0  1.0  2.0  5.0  1.0\n",
              "\n",
              "[5 rows x 19 columns]"
            ]
          },
          "metadata": {
            "tags": []
          },
          "execution_count": 141
        }
      ]
    },
    {
      "cell_type": "code",
      "metadata": {
        "colab": {
          "base_uri": "https://localhost:8080/",
          "height": 204
        },
        "id": "dkB3WeBSPGwS",
        "outputId": "29aa3b67-7fc3-4802-9cfe-f4e60a72e0e9"
      },
      "source": [
        "test_df.head()"
      ],
      "execution_count": 144,
      "outputs": [
        {
          "output_type": "execute_result",
          "data": {
            "text/html": [
              "<div>\n",
              "<style scoped>\n",
              "    .dataframe tbody tr th:only-of-type {\n",
              "        vertical-align: middle;\n",
              "    }\n",
              "\n",
              "    .dataframe tbody tr th {\n",
              "        vertical-align: top;\n",
              "    }\n",
              "\n",
              "    .dataframe thead th {\n",
              "        text-align: right;\n",
              "    }\n",
              "</style>\n",
              "<table border=\"1\" class=\"dataframe\">\n",
              "  <thead>\n",
              "    <tr style=\"text-align: right;\">\n",
              "      <th></th>\n",
              "      <th>0</th>\n",
              "      <th>1</th>\n",
              "      <th>2</th>\n",
              "      <th>3</th>\n",
              "      <th>4</th>\n",
              "      <th>5</th>\n",
              "      <th>6</th>\n",
              "      <th>7</th>\n",
              "      <th>8</th>\n",
              "      <th>9</th>\n",
              "      <th>10</th>\n",
              "      <th>11</th>\n",
              "      <th>12</th>\n",
              "      <th>13</th>\n",
              "      <th>14</th>\n",
              "      <th>15</th>\n",
              "      <th>16</th>\n",
              "      <th>17</th>\n",
              "      <th>18</th>\n",
              "    </tr>\n",
              "  </thead>\n",
              "  <tbody>\n",
              "    <tr>\n",
              "      <th>0</th>\n",
              "      <td>41.0</td>\n",
              "      <td>1.0</td>\n",
              "      <td>5.0</td>\n",
              "      <td>306.0</td>\n",
              "      <td>2.0</td>\n",
              "      <td>3.0</td>\n",
              "      <td>4.0</td>\n",
              "      <td>3.0</td>\n",
              "      <td>5376.0</td>\n",
              "      <td>13.0</td>\n",
              "      <td>11351.0</td>\n",
              "      <td>14824.0</td>\n",
              "      <td>937.0</td>\n",
              "      <td>9415.0</td>\n",
              "      <td>2.0</td>\n",
              "      <td>1.0</td>\n",
              "      <td>1.0</td>\n",
              "      <td>2.0</td>\n",
              "      <td>3.0</td>\n",
              "    </tr>\n",
              "    <tr>\n",
              "      <th>1</th>\n",
              "      <td>32.0</td>\n",
              "      <td>2.0</td>\n",
              "      <td>2.0</td>\n",
              "      <td>426.0</td>\n",
              "      <td>2.0</td>\n",
              "      <td>3.0</td>\n",
              "      <td>3.0</td>\n",
              "      <td>1.0</td>\n",
              "      <td>16604.0</td>\n",
              "      <td>12.0</td>\n",
              "      <td>1577.0</td>\n",
              "      <td>3322.0</td>\n",
              "      <td>944.0</td>\n",
              "      <td>9085.0</td>\n",
              "      <td>2.0</td>\n",
              "      <td>1.0</td>\n",
              "      <td>1.0</td>\n",
              "      <td>2.0</td>\n",
              "      <td>4.0</td>\n",
              "    </tr>\n",
              "    <tr>\n",
              "      <th>2</th>\n",
              "      <td>22.0</td>\n",
              "      <td>1.0</td>\n",
              "      <td>6.0</td>\n",
              "      <td>793.0</td>\n",
              "      <td>2.0</td>\n",
              "      <td>2.0</td>\n",
              "      <td>2.0</td>\n",
              "      <td>2.0</td>\n",
              "      <td>12360.0</td>\n",
              "      <td>19.0</td>\n",
              "      <td>8071.0</td>\n",
              "      <td>1098.0</td>\n",
              "      <td>459.0</td>\n",
              "      <td>8453.0</td>\n",
              "      <td>2.0</td>\n",
              "      <td>1.0</td>\n",
              "      <td>2.0</td>\n",
              "      <td>4.0</td>\n",
              "      <td>1.0</td>\n",
              "    </tr>\n",
              "    <tr>\n",
              "      <th>3</th>\n",
              "      <td>55.0</td>\n",
              "      <td>2.0</td>\n",
              "      <td>6.0</td>\n",
              "      <td>961.0</td>\n",
              "      <td>3.0</td>\n",
              "      <td>1.0</td>\n",
              "      <td>1.0</td>\n",
              "      <td>1.0</td>\n",
              "      <td>11088.0</td>\n",
              "      <td>1.0</td>\n",
              "      <td>1924.0</td>\n",
              "      <td>13383.0</td>\n",
              "      <td>440.0</td>\n",
              "      <td>9871.0</td>\n",
              "      <td>2.0</td>\n",
              "      <td>1.0</td>\n",
              "      <td>2.0</td>\n",
              "      <td>1.0</td>\n",
              "      <td>8.0</td>\n",
              "    </tr>\n",
              "    <tr>\n",
              "      <th>4</th>\n",
              "      <td>7.0</td>\n",
              "      <td>1.0</td>\n",
              "      <td>3.0</td>\n",
              "      <td>125.0</td>\n",
              "      <td>3.0</td>\n",
              "      <td>3.0</td>\n",
              "      <td>4.0</td>\n",
              "      <td>2.0</td>\n",
              "      <td>2191.0</td>\n",
              "      <td>7.0</td>\n",
              "      <td>10825.0</td>\n",
              "      <td>14798.0</td>\n",
              "      <td>943.0</td>\n",
              "      <td>778.0</td>\n",
              "      <td>1.0</td>\n",
              "      <td>2.0</td>\n",
              "      <td>2.0</td>\n",
              "      <td>4.0</td>\n",
              "      <td>4.0</td>\n",
              "    </tr>\n",
              "  </tbody>\n",
              "</table>\n",
              "</div>"
            ],
            "text/plain": [
              "     0    1    2      3    4    5    6   ...     12      13   14   15   16   17   18\n",
              "0  41.0  1.0  5.0  306.0  2.0  3.0  4.0  ...  937.0  9415.0  2.0  1.0  1.0  2.0  3.0\n",
              "1  32.0  2.0  2.0  426.0  2.0  3.0  3.0  ...  944.0  9085.0  2.0  1.0  1.0  2.0  4.0\n",
              "2  22.0  1.0  6.0  793.0  2.0  2.0  2.0  ...  459.0  8453.0  2.0  1.0  2.0  4.0  1.0\n",
              "3  55.0  2.0  6.0  961.0  3.0  1.0  1.0  ...  440.0  9871.0  2.0  1.0  2.0  1.0  8.0\n",
              "4   7.0  1.0  3.0  125.0  3.0  3.0  4.0  ...  943.0   778.0  1.0  2.0  2.0  4.0  4.0\n",
              "\n",
              "[5 rows x 19 columns]"
            ]
          },
          "metadata": {
            "tags": []
          },
          "execution_count": 144
        }
      ]
    },
    {
      "cell_type": "code",
      "metadata": {
        "colab": {
          "base_uri": "https://localhost:8080/"
        },
        "id": "jKaGT8qZPAVR",
        "outputId": "365519cc-b761-4e36-8614-20bd3e7ec7ac"
      },
      "source": [
        "target[:5]"
      ],
      "execution_count": 143,
      "outputs": [
        {
          "output_type": "execute_result",
          "data": {
            "text/plain": [
              "array([[0., 1., 0., 0., 0.],\n",
              "       [0., 0., 0., 0., 1.],\n",
              "       [0., 0., 0., 0., 1.],\n",
              "       [0., 0., 0., 0., 1.],\n",
              "       [0., 0., 1., 0., 0.]], dtype=float32)"
            ]
          },
          "metadata": {
            "tags": []
          },
          "execution_count": 143
        }
      ]
    },
    {
      "cell_type": "code",
      "metadata": {
        "id": "WqgoLK1MPTZp"
      },
      "source": [
        "train_df = normalize(train_df)\n",
        "test_df = normalize(test_df)"
      ],
      "execution_count": 145,
      "outputs": []
    },
    {
      "cell_type": "markdown",
      "metadata": {
        "id": "2DDXTjwFSGsZ"
      },
      "source": [
        "Now Data is ready"
      ]
    },
    {
      "cell_type": "code",
      "metadata": {
        "id": "CXPhnJPVSGAZ"
      },
      "source": [
        ""
      ],
      "execution_count": null,
      "outputs": []
    },
    {
      "cell_type": "code",
      "metadata": {
        "id": "DQrSAoyCPvyD"
      },
      "source": [
        "# spliting data"
      ],
      "execution_count": null,
      "outputs": []
    },
    {
      "cell_type": "code",
      "metadata": {
        "id": "Lf7-GOk6Pp_I"
      },
      "source": [
        "x_train, x_test, y_train, y_test = train_test_split(train_df, target, test_size=0.10, random_state=42)\n",
        "x_train, x_val, y_train, y_val = train_test_split(x_train, y_train, train_size=0.90, random_state=42)\n"
      ],
      "execution_count": 146,
      "outputs": []
    },
    {
      "cell_type": "code",
      "metadata": {
        "colab": {
          "base_uri": "https://localhost:8080/"
        },
        "id": "_NF2tEV_P8uo",
        "outputId": "fafaadf7-fa9d-45f2-d3f2-032b2d022a83"
      },
      "source": [
        "\n",
        "from keras.models import Sequential\n",
        "from keras.layers import Dense, Dropout\n",
        "from sklearn.metrics import classification_report, confusion_matrix,f1_score\n",
        "from tensorflow.keras.models import load_model\n",
        "model = Sequential()\n",
        "model.add( Dense(512, input_dim = train_df.shape[1], activation='relu' ))\n",
        "model.add( Dropout(0.2))\n",
        "model.add( Dense(128, activation='relu' ))\n",
        "model.add( Dropout(0.2))\n",
        "model.add( Dense(32, activation='relu' ))\n",
        "model.add( Dropout(0.2))\n",
        "model.add( Dense(5, activation='softmax'))\n",
        "model.compile(optimizer='Adam', loss = 'categorical_crossentropy', metrics=['accuracy'])\n",
        "model.summary()"
      ],
      "execution_count": 187,
      "outputs": [
        {
          "output_type": "stream",
          "text": [
            "Model: \"sequential_4\"\n",
            "_________________________________________________________________\n",
            "Layer (type)                 Output Shape              Param #   \n",
            "=================================================================\n",
            "dense_16 (Dense)             (None, 512)               10240     \n",
            "_________________________________________________________________\n",
            "dropout_12 (Dropout)         (None, 512)               0         \n",
            "_________________________________________________________________\n",
            "dense_17 (Dense)             (None, 128)               65664     \n",
            "_________________________________________________________________\n",
            "dropout_13 (Dropout)         (None, 128)               0         \n",
            "_________________________________________________________________\n",
            "dense_18 (Dense)             (None, 32)                4128      \n",
            "_________________________________________________________________\n",
            "dropout_14 (Dropout)         (None, 32)                0         \n",
            "_________________________________________________________________\n",
            "dense_19 (Dense)             (None, 5)                 165       \n",
            "=================================================================\n",
            "Total params: 80,197\n",
            "Trainable params: 80,197\n",
            "Non-trainable params: 0\n",
            "_________________________________________________________________\n"
          ],
          "name": "stdout"
        }
      ]
    },
    {
      "cell_type": "code",
      "metadata": {
        "colab": {
          "base_uri": "https://localhost:8080/"
        },
        "id": "v4xHmMfKQCx7",
        "outputId": "00de06a2-a78d-4a55-ae62-4e985ade6990"
      },
      "source": [
        "(x_train.shape, y_train.shape), ( x_test.shape, y_test.shape), ( x_val.shape, y_val.shape)"
      ],
      "execution_count": 188,
      "outputs": [
        {
          "output_type": "execute_result",
          "data": {
            "text/plain": [
              "(((26112, 19), (26112, 5)), ((3224, 19), (3224, 5)), ((2902, 19), (2902, 5)))"
            ]
          },
          "metadata": {
            "tags": []
          },
          "execution_count": 188
        }
      ]
    },
    {
      "cell_type": "code",
      "metadata": {
        "id": "9T-H2fJdQIYo"
      },
      "source": [
        "from keras.callbacks import ModelCheckpoint, EarlyStopping\n",
        "filepath = 'best_model.hdf5'\n",
        "checkpoint = ModelCheckpoint(filepath, save_best_only=True , verbose=1)\n",
        "early_stopper = EarlyStopping(monitor='val_loss', verbose=1, patience=12)\n",
        "callback_list = [checkpoint, early_stopper]"
      ],
      "execution_count": 189,
      "outputs": []
    },
    {
      "cell_type": "code",
      "metadata": {
        "colab": {
          "base_uri": "https://localhost:8080/"
        },
        "id": "_sdbLRC2QRg-",
        "outputId": "6aa278a9-a54c-4fef-dd7a-46c0b976aa15"
      },
      "source": [
        "history = model.fit(x_train, y_train, validation_data=(x_val, y_val), epochs=75, callbacks= callback_list)"
      ],
      "execution_count": 190,
      "outputs": [
        {
          "output_type": "stream",
          "text": [
            "Epoch 1/75\n",
            "816/816 [==============================] - 4s 4ms/step - loss: 1.1409 - accuracy: 0.4896 - val_loss: 0.7988 - val_accuracy: 0.6575\n",
            "\n",
            "Epoch 00001: val_loss improved from inf to 0.79877, saving model to best_model.hdf5\n",
            "Epoch 2/75\n",
            "816/816 [==============================] - 3s 3ms/step - loss: 0.8182 - accuracy: 0.6389 - val_loss: 0.6921 - val_accuracy: 0.6943\n",
            "\n",
            "Epoch 00002: val_loss improved from 0.79877 to 0.69215, saving model to best_model.hdf5\n",
            "Epoch 3/75\n",
            "816/816 [==============================] - 3s 3ms/step - loss: 0.7327 - accuracy: 0.6652 - val_loss: 0.6365 - val_accuracy: 0.7178\n",
            "\n",
            "Epoch 00003: val_loss improved from 0.69215 to 0.63647, saving model to best_model.hdf5\n",
            "Epoch 4/75\n",
            "816/816 [==============================] - 3s 3ms/step - loss: 0.6700 - accuracy: 0.6974 - val_loss: 0.5705 - val_accuracy: 0.7305\n",
            "\n",
            "Epoch 00004: val_loss improved from 0.63647 to 0.57051, saving model to best_model.hdf5\n",
            "Epoch 5/75\n",
            "816/816 [==============================] - 3s 3ms/step - loss: 0.6222 - accuracy: 0.7102 - val_loss: 0.5290 - val_accuracy: 0.7584\n",
            "\n",
            "Epoch 00005: val_loss improved from 0.57051 to 0.52900, saving model to best_model.hdf5\n",
            "Epoch 6/75\n",
            "816/816 [==============================] - 2s 3ms/step - loss: 0.5819 - accuracy: 0.7368 - val_loss: 0.5038 - val_accuracy: 0.7553\n",
            "\n",
            "Epoch 00006: val_loss improved from 0.52900 to 0.50384, saving model to best_model.hdf5\n",
            "Epoch 7/75\n",
            "816/816 [==============================] - 3s 3ms/step - loss: 0.5435 - accuracy: 0.7465 - val_loss: 0.4807 - val_accuracy: 0.7578\n",
            "\n",
            "Epoch 00007: val_loss improved from 0.50384 to 0.48067, saving model to best_model.hdf5\n",
            "Epoch 8/75\n",
            "816/816 [==============================] - 3s 3ms/step - loss: 0.5265 - accuracy: 0.7519 - val_loss: 0.4429 - val_accuracy: 0.7864\n",
            "\n",
            "Epoch 00008: val_loss improved from 0.48067 to 0.44293, saving model to best_model.hdf5\n",
            "Epoch 9/75\n",
            "816/816 [==============================] - 3s 3ms/step - loss: 0.5027 - accuracy: 0.7604 - val_loss: 0.4326 - val_accuracy: 0.7719\n",
            "\n",
            "Epoch 00009: val_loss improved from 0.44293 to 0.43262, saving model to best_model.hdf5\n",
            "Epoch 10/75\n",
            "816/816 [==============================] - 3s 3ms/step - loss: 0.4769 - accuracy: 0.7651 - val_loss: 0.4176 - val_accuracy: 0.7905\n",
            "\n",
            "Epoch 00010: val_loss improved from 0.43262 to 0.41756, saving model to best_model.hdf5\n",
            "Epoch 11/75\n",
            "816/816 [==============================] - 3s 3ms/step - loss: 0.4547 - accuracy: 0.7730 - val_loss: 0.3932 - val_accuracy: 0.7826\n",
            "\n",
            "Epoch 00011: val_loss improved from 0.41756 to 0.39324, saving model to best_model.hdf5\n",
            "Epoch 12/75\n",
            "816/816 [==============================] - 3s 3ms/step - loss: 0.4477 - accuracy: 0.7748 - val_loss: 0.3879 - val_accuracy: 0.7919\n",
            "\n",
            "Epoch 00012: val_loss improved from 0.39324 to 0.38795, saving model to best_model.hdf5\n",
            "Epoch 13/75\n",
            "816/816 [==============================] - 3s 3ms/step - loss: 0.4428 - accuracy: 0.7763 - val_loss: 0.3931 - val_accuracy: 0.7702\n",
            "\n",
            "Epoch 00013: val_loss did not improve from 0.38795\n",
            "Epoch 14/75\n",
            "816/816 [==============================] - 3s 4ms/step - loss: 0.4300 - accuracy: 0.7774 - val_loss: 0.3822 - val_accuracy: 0.7926\n",
            "\n",
            "Epoch 00014: val_loss improved from 0.38795 to 0.38218, saving model to best_model.hdf5\n",
            "Epoch 15/75\n",
            "816/816 [==============================] - 3s 4ms/step - loss: 0.4244 - accuracy: 0.7793 - val_loss: 0.3726 - val_accuracy: 0.7974\n",
            "\n",
            "Epoch 00015: val_loss improved from 0.38218 to 0.37264, saving model to best_model.hdf5\n",
            "Epoch 16/75\n",
            "816/816 [==============================] - 3s 4ms/step - loss: 0.4230 - accuracy: 0.7768 - val_loss: 0.3815 - val_accuracy: 0.7753\n",
            "\n",
            "Epoch 00016: val_loss did not improve from 0.37264\n",
            "Epoch 17/75\n",
            "816/816 [==============================] - 3s 3ms/step - loss: 0.4117 - accuracy: 0.7828 - val_loss: 0.3631 - val_accuracy: 0.7974\n",
            "\n",
            "Epoch 00017: val_loss improved from 0.37264 to 0.36308, saving model to best_model.hdf5\n",
            "Epoch 18/75\n",
            "816/816 [==============================] - 3s 3ms/step - loss: 0.4080 - accuracy: 0.7825 - val_loss: 0.3635 - val_accuracy: 0.8015\n",
            "\n",
            "Epoch 00018: val_loss did not improve from 0.36308\n",
            "Epoch 19/75\n",
            "816/816 [==============================] - 3s 3ms/step - loss: 0.4040 - accuracy: 0.7816 - val_loss: 0.3729 - val_accuracy: 0.7960\n",
            "\n",
            "Epoch 00019: val_loss did not improve from 0.36308\n",
            "Epoch 20/75\n",
            "816/816 [==============================] - 3s 3ms/step - loss: 0.4120 - accuracy: 0.7756 - val_loss: 0.3637 - val_accuracy: 0.7967\n",
            "\n",
            "Epoch 00020: val_loss did not improve from 0.36308\n",
            "Epoch 21/75\n",
            "816/816 [==============================] - 3s 3ms/step - loss: 0.3930 - accuracy: 0.7886 - val_loss: 0.3669 - val_accuracy: 0.7881\n",
            "\n",
            "Epoch 00021: val_loss did not improve from 0.36308\n",
            "Epoch 22/75\n",
            "816/816 [==============================] - 3s 3ms/step - loss: 0.4016 - accuracy: 0.7839 - val_loss: 0.3638 - val_accuracy: 0.7967\n",
            "\n",
            "Epoch 00022: val_loss did not improve from 0.36308\n",
            "Epoch 23/75\n",
            "816/816 [==============================] - 3s 3ms/step - loss: 0.3943 - accuracy: 0.7885 - val_loss: 0.3569 - val_accuracy: 0.7936\n",
            "\n",
            "Epoch 00023: val_loss improved from 0.36308 to 0.35690, saving model to best_model.hdf5\n",
            "Epoch 24/75\n",
            "816/816 [==============================] - 3s 3ms/step - loss: 0.3899 - accuracy: 0.7899 - val_loss: 0.3557 - val_accuracy: 0.7988\n",
            "\n",
            "Epoch 00024: val_loss improved from 0.35690 to 0.35566, saving model to best_model.hdf5\n",
            "Epoch 25/75\n",
            "816/816 [==============================] - 2s 3ms/step - loss: 0.3897 - accuracy: 0.7903 - val_loss: 0.3588 - val_accuracy: 0.7957\n",
            "\n",
            "Epoch 00025: val_loss did not improve from 0.35566\n",
            "Epoch 26/75\n",
            "816/816 [==============================] - 3s 3ms/step - loss: 0.3861 - accuracy: 0.7869 - val_loss: 0.3546 - val_accuracy: 0.7922\n",
            "\n",
            "Epoch 00026: val_loss improved from 0.35566 to 0.35457, saving model to best_model.hdf5\n",
            "Epoch 27/75\n",
            "816/816 [==============================] - 3s 3ms/step - loss: 0.3878 - accuracy: 0.7904 - val_loss: 0.3594 - val_accuracy: 0.7998\n",
            "\n",
            "Epoch 00027: val_loss did not improve from 0.35457\n",
            "Epoch 28/75\n",
            "816/816 [==============================] - 3s 3ms/step - loss: 0.3799 - accuracy: 0.7910 - val_loss: 0.3628 - val_accuracy: 0.7946\n",
            "\n",
            "Epoch 00028: val_loss did not improve from 0.35457\n",
            "Epoch 29/75\n",
            "816/816 [==============================] - 3s 3ms/step - loss: 0.3827 - accuracy: 0.7905 - val_loss: 0.3707 - val_accuracy: 0.7733\n",
            "\n",
            "Epoch 00029: val_loss did not improve from 0.35457\n",
            "Epoch 30/75\n",
            "816/816 [==============================] - 3s 3ms/step - loss: 0.3807 - accuracy: 0.7967 - val_loss: 0.3547 - val_accuracy: 0.8036\n",
            "\n",
            "Epoch 00030: val_loss did not improve from 0.35457\n",
            "Epoch 31/75\n",
            "816/816 [==============================] - 3s 3ms/step - loss: 0.3794 - accuracy: 0.7933 - val_loss: 0.3539 - val_accuracy: 0.7943\n",
            "\n",
            "Epoch 00031: val_loss improved from 0.35457 to 0.35395, saving model to best_model.hdf5\n",
            "Epoch 32/75\n",
            "816/816 [==============================] - 3s 3ms/step - loss: 0.3749 - accuracy: 0.7949 - val_loss: 0.3615 - val_accuracy: 0.7922\n",
            "\n",
            "Epoch 00032: val_loss did not improve from 0.35395\n",
            "Epoch 33/75\n",
            "816/816 [==============================] - 3s 3ms/step - loss: 0.3789 - accuracy: 0.7892 - val_loss: 0.3598 - val_accuracy: 0.8019\n",
            "\n",
            "Epoch 00033: val_loss did not improve from 0.35395\n",
            "Epoch 34/75\n",
            "816/816 [==============================] - 3s 3ms/step - loss: 0.3806 - accuracy: 0.7919 - val_loss: 0.3534 - val_accuracy: 0.7739\n",
            "\n",
            "Epoch 00034: val_loss improved from 0.35395 to 0.35339, saving model to best_model.hdf5\n",
            "Epoch 35/75\n",
            "816/816 [==============================] - 3s 3ms/step - loss: 0.3706 - accuracy: 0.7936 - val_loss: 0.3537 - val_accuracy: 0.7898\n",
            "\n",
            "Epoch 00035: val_loss did not improve from 0.35339\n",
            "Epoch 36/75\n",
            "816/816 [==============================] - 3s 3ms/step - loss: 0.3820 - accuracy: 0.7897 - val_loss: 0.3574 - val_accuracy: 0.8036\n",
            "\n",
            "Epoch 00036: val_loss did not improve from 0.35339\n",
            "Epoch 37/75\n",
            "816/816 [==============================] - 3s 3ms/step - loss: 0.3776 - accuracy: 0.7958 - val_loss: 0.3553 - val_accuracy: 0.7795\n",
            "\n",
            "Epoch 00037: val_loss did not improve from 0.35339\n",
            "Epoch 38/75\n",
            "816/816 [==============================] - 3s 3ms/step - loss: 0.3709 - accuracy: 0.7937 - val_loss: 0.3635 - val_accuracy: 0.7819\n",
            "\n",
            "Epoch 00038: val_loss did not improve from 0.35339\n",
            "Epoch 39/75\n",
            "816/816 [==============================] - 3s 3ms/step - loss: 0.3682 - accuracy: 0.7983 - val_loss: 0.3508 - val_accuracy: 0.8046\n",
            "\n",
            "Epoch 00039: val_loss improved from 0.35339 to 0.35079, saving model to best_model.hdf5\n",
            "Epoch 40/75\n",
            "816/816 [==============================] - 3s 3ms/step - loss: 0.3680 - accuracy: 0.7988 - val_loss: 0.3575 - val_accuracy: 0.7912\n",
            "\n",
            "Epoch 00040: val_loss did not improve from 0.35079\n",
            "Epoch 41/75\n",
            "816/816 [==============================] - 3s 3ms/step - loss: 0.3666 - accuracy: 0.7941 - val_loss: 0.3520 - val_accuracy: 0.7791\n",
            "\n",
            "Epoch 00041: val_loss did not improve from 0.35079\n",
            "Epoch 42/75\n",
            "816/816 [==============================] - 3s 3ms/step - loss: 0.3732 - accuracy: 0.7934 - val_loss: 0.3480 - val_accuracy: 0.7888\n",
            "\n",
            "Epoch 00042: val_loss improved from 0.35079 to 0.34801, saving model to best_model.hdf5\n",
            "Epoch 43/75\n",
            "816/816 [==============================] - 3s 3ms/step - loss: 0.3631 - accuracy: 0.7983 - val_loss: 0.3511 - val_accuracy: 0.7812\n",
            "\n",
            "Epoch 00043: val_loss did not improve from 0.34801\n",
            "Epoch 44/75\n",
            "816/816 [==============================] - 3s 3ms/step - loss: 0.3597 - accuracy: 0.8018 - val_loss: 0.3588 - val_accuracy: 0.7808\n",
            "\n",
            "Epoch 00044: val_loss did not improve from 0.34801\n",
            "Epoch 45/75\n",
            "816/816 [==============================] - 3s 3ms/step - loss: 0.3638 - accuracy: 0.7969 - val_loss: 0.3592 - val_accuracy: 0.8008\n",
            "\n",
            "Epoch 00045: val_loss did not improve from 0.34801\n",
            "Epoch 46/75\n",
            "816/816 [==============================] - 3s 3ms/step - loss: 0.3554 - accuracy: 0.7986 - val_loss: 0.3534 - val_accuracy: 0.7953\n",
            "\n",
            "Epoch 00046: val_loss did not improve from 0.34801\n",
            "Epoch 47/75\n",
            "816/816 [==============================] - 2s 3ms/step - loss: 0.3539 - accuracy: 0.8016 - val_loss: 0.3522 - val_accuracy: 0.8032\n",
            "\n",
            "Epoch 00047: val_loss did not improve from 0.34801\n",
            "Epoch 48/75\n",
            "816/816 [==============================] - 2s 3ms/step - loss: 0.3502 - accuracy: 0.8010 - val_loss: 0.3510 - val_accuracy: 0.7991\n",
            "\n",
            "Epoch 00048: val_loss did not improve from 0.34801\n",
            "Epoch 49/75\n",
            "816/816 [==============================] - 2s 3ms/step - loss: 0.3616 - accuracy: 0.7927 - val_loss: 0.3576 - val_accuracy: 0.7815\n",
            "\n",
            "Epoch 00049: val_loss did not improve from 0.34801\n",
            "Epoch 50/75\n",
            "816/816 [==============================] - 2s 3ms/step - loss: 0.3605 - accuracy: 0.7946 - val_loss: 0.3591 - val_accuracy: 0.7860\n",
            "\n",
            "Epoch 00050: val_loss did not improve from 0.34801\n",
            "Epoch 51/75\n",
            "816/816 [==============================] - 2s 3ms/step - loss: 0.3551 - accuracy: 0.8018 - val_loss: 0.3529 - val_accuracy: 0.7929\n",
            "\n",
            "Epoch 00051: val_loss did not improve from 0.34801\n",
            "Epoch 52/75\n",
            "816/816 [==============================] - 2s 3ms/step - loss: 0.3554 - accuracy: 0.8048 - val_loss: 0.3438 - val_accuracy: 0.8015\n",
            "\n",
            "Epoch 00052: val_loss improved from 0.34801 to 0.34379, saving model to best_model.hdf5\n",
            "Epoch 53/75\n",
            "816/816 [==============================] - 2s 3ms/step - loss: 0.3521 - accuracy: 0.8037 - val_loss: 0.3575 - val_accuracy: 0.7874\n",
            "\n",
            "Epoch 00053: val_loss did not improve from 0.34379\n",
            "Epoch 54/75\n",
            "816/816 [==============================] - 2s 3ms/step - loss: 0.3515 - accuracy: 0.8020 - val_loss: 0.3576 - val_accuracy: 0.7994\n",
            "\n",
            "Epoch 00054: val_loss did not improve from 0.34379\n",
            "Epoch 55/75\n",
            "816/816 [==============================] - 2s 3ms/step - loss: 0.3541 - accuracy: 0.8035 - val_loss: 0.3562 - val_accuracy: 0.7963\n",
            "\n",
            "Epoch 00055: val_loss did not improve from 0.34379\n",
            "Epoch 56/75\n",
            "816/816 [==============================] - 2s 3ms/step - loss: 0.3522 - accuracy: 0.8058 - val_loss: 0.3613 - val_accuracy: 0.8036\n",
            "\n",
            "Epoch 00056: val_loss did not improve from 0.34379\n",
            "Epoch 57/75\n",
            "816/816 [==============================] - 2s 3ms/step - loss: 0.3529 - accuracy: 0.8031 - val_loss: 0.3518 - val_accuracy: 0.7877\n",
            "\n",
            "Epoch 00057: val_loss did not improve from 0.34379\n",
            "Epoch 58/75\n",
            "816/816 [==============================] - 2s 3ms/step - loss: 0.3530 - accuracy: 0.8043 - val_loss: 0.3588 - val_accuracy: 0.7743\n",
            "\n",
            "Epoch 00058: val_loss did not improve from 0.34379\n",
            "Epoch 59/75\n",
            "816/816 [==============================] - 2s 3ms/step - loss: 0.3439 - accuracy: 0.8099 - val_loss: 0.3511 - val_accuracy: 0.7950\n",
            "\n",
            "Epoch 00059: val_loss did not improve from 0.34379\n",
            "Epoch 60/75\n",
            "816/816 [==============================] - 2s 3ms/step - loss: 0.3521 - accuracy: 0.8010 - val_loss: 0.3561 - val_accuracy: 0.7891\n",
            "\n",
            "Epoch 00060: val_loss did not improve from 0.34379\n",
            "Epoch 61/75\n",
            "816/816 [==============================] - 2s 3ms/step - loss: 0.3471 - accuracy: 0.8070 - val_loss: 0.3521 - val_accuracy: 0.7946\n",
            "\n",
            "Epoch 00061: val_loss did not improve from 0.34379\n",
            "Epoch 62/75\n",
            "816/816 [==============================] - 2s 3ms/step - loss: 0.3546 - accuracy: 0.8037 - val_loss: 0.3652 - val_accuracy: 0.7826\n",
            "\n",
            "Epoch 00062: val_loss did not improve from 0.34379\n",
            "Epoch 63/75\n",
            "816/816 [==============================] - 2s 3ms/step - loss: 0.3492 - accuracy: 0.8030 - val_loss: 0.3574 - val_accuracy: 0.7981\n",
            "\n",
            "Epoch 00063: val_loss did not improve from 0.34379\n",
            "Epoch 64/75\n",
            "816/816 [==============================] - 2s 3ms/step - loss: 0.3470 - accuracy: 0.8051 - val_loss: 0.3595 - val_accuracy: 0.7998\n",
            "\n",
            "Epoch 00064: val_loss did not improve from 0.34379\n",
            "Epoch 00064: early stopping\n"
          ],
          "name": "stdout"
        }
      ]
    },
    {
      "cell_type": "code",
      "metadata": {
        "id": "jZNNBAoBQgnm"
      },
      "source": [
        "model = load_model(filepath)"
      ],
      "execution_count": 182,
      "outputs": []
    },
    {
      "cell_type": "code",
      "metadata": {
        "id": "lpWqlM6WQlca"
      },
      "source": [
        "y_pred_dnn = model.predict(test_df)\n",
        "y_pred_dnn = np.argmax(y_pred_dnn, axis=1)+1"
      ],
      "execution_count": 191,
      "outputs": []
    },
    {
      "cell_type": "code",
      "metadata": {
        "colab": {
          "base_uri": "https://localhost:8080/"
        },
        "id": "NysVsEAMQqep",
        "outputId": "3efbb44d-0d25-48d6-e768-6a427d732773"
      },
      "source": [
        "y_pred_final[:5]"
      ],
      "execution_count": 192,
      "outputs": [
        {
          "output_type": "execute_result",
          "data": {
            "text/plain": [
              "array([[0., 0., 0., 1., 0.],\n",
              "       [0., 0., 0., 0., 1.],\n",
              "       [0., 0., 0., 1., 0.],\n",
              "       [0., 0., 1., 0., 0.],\n",
              "       [1., 0., 0., 0., 0.]], dtype=float32)"
            ]
          },
          "metadata": {
            "tags": []
          },
          "execution_count": 192
        }
      ]
    },
    {
      "cell_type": "code",
      "metadata": {
        "colab": {
          "base_uri": "https://localhost:8080/"
        },
        "id": "p-tbAMuAQuFM",
        "outputId": "cdbae97e-e0e0-4087-fa27-f7ed144978e4"
      },
      "source": [
        "y_test[:5]"
      ],
      "execution_count": 193,
      "outputs": [
        {
          "output_type": "execute_result",
          "data": {
            "text/plain": [
              "array([[0., 0., 0., 1., 0.],\n",
              "       [0., 0., 0., 0., 1.],\n",
              "       [0., 0., 0., 1., 0.],\n",
              "       [0., 0., 1., 0., 0.],\n",
              "       [1., 0., 0., 0., 0.]], dtype=float32)"
            ]
          },
          "metadata": {
            "tags": []
          },
          "execution_count": 193
        }
      ]
    },
    {
      "cell_type": "code",
      "metadata": {
        "colab": {
          "base_uri": "https://localhost:8080/"
        },
        "id": "lxW3mAW7QyPv",
        "outputId": "cc6e722b-f53d-44e6-e014-3945cb5c8c5c"
      },
      "source": [
        "print( classification_report(y_test, y_pred_final))\n",
        "print(f1_score(y_test, y_pred_final, average='macro'))"
      ],
      "execution_count": 195,
      "outputs": [
        {
          "output_type": "stream",
          "text": [
            "              precision    recall  f1-score   support\n",
            "\n",
            "           0       0.69      0.91      0.79       241\n",
            "           1       0.88      0.61      0.72       251\n",
            "           2       0.88      0.98      0.92       922\n",
            "           3       0.75      0.62      0.67       907\n",
            "           4       0.77      0.81      0.79       903\n",
            "\n",
            "   micro avg       0.80      0.80      0.80      3224\n",
            "   macro avg       0.79      0.79      0.78      3224\n",
            "weighted avg       0.80      0.80      0.79      3224\n",
            " samples avg       0.80      0.80      0.80      3224\n",
            "\n",
            "0.7791159471311799\n"
          ],
          "name": "stdout"
        }
      ]
    },
    {
      "cell_type": "code",
      "metadata": {
        "colab": {
          "base_uri": "https://localhost:8080/",
          "height": 775
        },
        "id": "VLdM7bxFQ2ro",
        "outputId": "55c45441-70c4-4ff1-b99f-58da6bac3610"
      },
      "source": [
        "N = 64 #number of epochs\n",
        "num = []\n",
        "for i in range(0, N):\n",
        "    num.append(i)\n",
        "plt.figure(figsize=(10, 6))\n",
        "plt.plot(num, history.history[\"loss\"], label =\"traning_loss\")\n",
        "plt.plot(num, history.history['val_loss'], label = 'validation_loss')\n",
        "plt.xlabel('Epoch #')\n",
        "plt.ylabel('Loss')\n",
        "plt.legend(loc ='upper right')\n",
        "plt.show()\n",
        "plt.figure(figsize=(10, 6))\n",
        "plt.plot(num, history.history['accuracy'], label='training_accuracy')\n",
        "plt.plot(num, history.history['val_accuracy'], label = 'validation_accuracy')\n",
        "plt.title(' Traning Loss and Accuracy on dataset')\n",
        "plt.xlabel('Epoch #')\n",
        "plt.ylabel('Accuracy')\n",
        "plt.legend(loc ='lower right')\n",
        "plt.show()\n"
      ],
      "execution_count": 196,
      "outputs": [
        {
          "output_type": "display_data",
          "data": {
            "image/png": "[encoded data removed]",
            "text/plain": [
              "<Figure size 720x432 with 1 Axes>"
            ]
          },
          "metadata": {
            "tags": [],
            "needs_background": "light"
          }
        },
        {
          "output_type": "display_data",
          "data": {
            "image/png": "[encoded data removed]",
            "text/plain": [
              "<Figure size 720x432 with 1 Axes>"
            ]
          },
          "metadata": {
            "tags": [],
            "needs_background": "light"
          }
        }
      ]
    },
    {
      "cell_type": "code",
      "metadata": {
        "id": "kqAgX0BRQ9nn"
      },
      "source": [
        "y_pred_dnn = model.predict(test_df)\n",
        "y_pred_dnn = np.argmax(y_pred_dnn, axis=1)+1"
      ],
      "execution_count": 197,
      "outputs": []
    },
    {
      "cell_type": "code",
      "metadata": {
        "id": "S_7hzXOvRBB-"
      },
      "source": [
        "dnn_prediction_df = pd.DataFrame(y_pred_dnn, columns=['churn_risk_score'])"
      ],
      "execution_count": 198,
      "outputs": []
    },
    {
      "cell_type": "code",
      "metadata": {
        "colab": {
          "base_uri": "https://localhost:8080/",
          "height": 204
        },
        "id": "pazjQqxVRGHh",
        "outputId": "5344056d-55ff-4544-f430-72f6f6b991b2"
      },
      "source": [
        "dnn_final = pd.concat([test_data['customer_id'], dnn_prediction_df['churn_risk_score']], axis=1)\n",
        "dnn_final.head()"
      ],
      "execution_count": 199,
      "outputs": [
        {
          "output_type": "execute_result",
          "data": {
            "text/html": [
              "<div>\n",
              "<style scoped>\n",
              "    .dataframe tbody tr th:only-of-type {\n",
              "        vertical-align: middle;\n",
              "    }\n",
              "\n",
              "    .dataframe tbody tr th {\n",
              "        vertical-align: top;\n",
              "    }\n",
              "\n",
              "    .dataframe thead th {\n",
              "        text-align: right;\n",
              "    }\n",
              "</style>\n",
              "<table border=\"1\" class=\"dataframe\">\n",
              "  <thead>\n",
              "    <tr style=\"text-align: right;\">\n",
              "      <th></th>\n",
              "      <th>customer_id</th>\n",
              "      <th>churn_risk_score</th>\n",
              "    </tr>\n",
              "  </thead>\n",
              "  <tbody>\n",
              "    <tr>\n",
              "      <th>0</th>\n",
              "      <td>fffe43004900440031003700300030003400</td>\n",
              "      <td>3</td>\n",
              "    </tr>\n",
              "    <tr>\n",
              "      <th>1</th>\n",
              "      <td>fffe43004900440031003900370037003300</td>\n",
              "      <td>3</td>\n",
              "    </tr>\n",
              "    <tr>\n",
              "      <th>2</th>\n",
              "      <td>fffe43004900440034003800360037003000</td>\n",
              "      <td>3</td>\n",
              "    </tr>\n",
              "    <tr>\n",
              "      <th>3</th>\n",
              "      <td>fffe43004900440036003200370033003400</td>\n",
              "      <td>3</td>\n",
              "    </tr>\n",
              "    <tr>\n",
              "      <th>4</th>\n",
              "      <td>fffe43004900440035003000370031003900</td>\n",
              "      <td>5</td>\n",
              "    </tr>\n",
              "  </tbody>\n",
              "</table>\n",
              "</div>"
            ],
            "text/plain": [
              "                            customer_id  churn_risk_score\n",
              "0  fffe43004900440031003700300030003400                 3\n",
              "1  fffe43004900440031003900370037003300                 3\n",
              "2  fffe43004900440034003800360037003000                 3\n",
              "3  fffe43004900440036003200370033003400                 3\n",
              "4  fffe43004900440035003000370031003900                 5"
            ]
          },
          "metadata": {
            "tags": []
          },
          "execution_count": 199
        }
      ]
    },
    {
      "cell_type": "code",
      "metadata": {
        "id": "YdZLImfsRLOI"
      },
      "source": [
        "dnn_final.to_csv('dnn_final.csv')"
      ],
      "execution_count": 201,
      "outputs": []
    },
    {
      "cell_type": "code",
      "metadata": {
        "id": "kJdk2Y1DVjOX"
      },
      "source": [
        ""
      ],
      "execution_count": null,
      "outputs": []
    },
    {
      "cell_type": "markdown",
      "metadata": {
        "id": "h7MjhgG_VkhJ"
      },
      "source": [
        "Ramdom Forest Classifier"
      ]
    },
    {
      "cell_type": "code",
      "metadata": {
        "colab": {
          "base_uri": "https://localhost:8080/"
        },
        "id": "FboV_UNpVuG8",
        "outputId": "f6c0c955-edbf-4403-e1f0-665eb9d965b5"
      },
      "source": [
        "from sklearn.ensemble import RandomForestClassifier\n",
        "x_train, x_test, y_train, y_test = train_test_split(train_df, target, test_size=0.20, random_state=42)\n",
        "clf = RandomForestClassifier(random_state=100, n_estimators=180)\n",
        "clf.fit(x_train, y_train)\n",
        "y_pred = clf.predict(x_test)\n",
        "print( classification_report(y_test, y_pred))\n",
        "print(f1_score(y_test, y_pred,average='macro'))"
      ],
      "execution_count": 202,
      "outputs": [
        {
          "output_type": "stream",
          "text": [
            "              precision    recall  f1-score   support\n",
            "\n",
            "           0       0.78      0.73      0.75       479\n",
            "           1       0.85      0.64      0.73       496\n",
            "           2       0.92      0.92      0.92      1873\n",
            "           3       0.74      0.58      0.65      1828\n",
            "           4       0.75      0.76      0.76      1772\n",
            "\n",
            "   micro avg       0.81      0.75      0.78      6448\n",
            "   macro avg       0.81      0.73      0.76      6448\n",
            "weighted avg       0.81      0.75      0.77      6448\n",
            " samples avg       0.75      0.75      0.75      6448\n",
            "\n",
            "0.7628803750779303\n"
          ],
          "name": "stdout"
        },
        {
          "output_type": "stream",
          "text": [
            "/usr/local/lib/python3.7/dist-packages/sklearn/metrics/_classification.py:1272: UndefinedMetricWarning: Precision and F-score are ill-defined and being set to 0.0 in samples with no predicted labels. Use `zero_division` parameter to control this behavior.\n",
            "  _warn_prf(average, modifier, msg_start, len(result))\n"
          ],
          "name": "stderr"
        }
      ]
    },
    {
      "cell_type": "code",
      "metadata": {
        "colab": {
          "base_uri": "https://localhost:8080/",
          "height": 420
        },
        "id": "f8cmQ5kcV5q2",
        "outputId": "6078c355-f3aa-4fc8-c173-cb22f598e559"
      },
      "source": [
        "y_pred_rfc = clf.predict(test_df)\n",
        "y_pred_rfc = np.argmax(y_pred_rfc, axis=1)+1\n",
        "rfc_prediction_df = pd.DataFrame(y_pred_rfc, columns=['churn_risk_score'])\n",
        "rfc_final = pd.concat([ test_data['customer_id'], rfc_prediction_df['churn_risk_score']], axis=1)\n",
        "rfc_final"
      ],
      "execution_count": 203,
      "outputs": [
        {
          "output_type": "execute_result",
          "data": {
            "text/html": [
              "<div>\n",
              "<style scoped>\n",
              "    .dataframe tbody tr th:only-of-type {\n",
              "        vertical-align: middle;\n",
              "    }\n",
              "\n",
              "    .dataframe tbody tr th {\n",
              "        vertical-align: top;\n",
              "    }\n",
              "\n",
              "    .dataframe thead th {\n",
              "        text-align: right;\n",
              "    }\n",
              "</style>\n",
              "<table border=\"1\" class=\"dataframe\">\n",
              "  <thead>\n",
              "    <tr style=\"text-align: right;\">\n",
              "      <th></th>\n",
              "      <th>customer_id</th>\n",
              "      <th>churn_risk_score</th>\n",
              "    </tr>\n",
              "  </thead>\n",
              "  <tbody>\n",
              "    <tr>\n",
              "      <th>0</th>\n",
              "      <td>fffe43004900440031003700300030003400</td>\n",
              "      <td>3</td>\n",
              "    </tr>\n",
              "    <tr>\n",
              "      <th>1</th>\n",
              "      <td>fffe43004900440031003900370037003300</td>\n",
              "      <td>3</td>\n",
              "    </tr>\n",
              "    <tr>\n",
              "      <th>2</th>\n",
              "      <td>fffe43004900440034003800360037003000</td>\n",
              "      <td>3</td>\n",
              "    </tr>\n",
              "    <tr>\n",
              "      <th>3</th>\n",
              "      <td>fffe43004900440036003200370033003400</td>\n",
              "      <td>3</td>\n",
              "    </tr>\n",
              "    <tr>\n",
              "      <th>4</th>\n",
              "      <td>fffe43004900440035003000370031003900</td>\n",
              "      <td>5</td>\n",
              "    </tr>\n",
              "    <tr>\n",
              "      <th>...</th>\n",
              "      <td>...</td>\n",
              "      <td>...</td>\n",
              "    </tr>\n",
              "    <tr>\n",
              "      <th>19914</th>\n",
              "      <td>fffe43004900440035003600330037003800</td>\n",
              "      <td>1</td>\n",
              "    </tr>\n",
              "    <tr>\n",
              "      <th>19915</th>\n",
              "      <td>fffe43004900440032003900370037003100</td>\n",
              "      <td>5</td>\n",
              "    </tr>\n",
              "    <tr>\n",
              "      <th>19916</th>\n",
              "      <td>fffe43004900440036003100310036003700</td>\n",
              "      <td>5</td>\n",
              "    </tr>\n",
              "    <tr>\n",
              "      <th>19917</th>\n",
              "      <td>fffe43004900440034003200330033003600</td>\n",
              "      <td>4</td>\n",
              "    </tr>\n",
              "    <tr>\n",
              "      <th>19918</th>\n",
              "      <td>fffe43004900440036003200340030003100</td>\n",
              "      <td>3</td>\n",
              "    </tr>\n",
              "  </tbody>\n",
              "</table>\n",
              "<p>19919 rows × 2 columns</p>\n",
              "</div>"
            ],
            "text/plain": [
              "                                customer_id  churn_risk_score\n",
              "0      fffe43004900440031003700300030003400                 3\n",
              "1      fffe43004900440031003900370037003300                 3\n",
              "2      fffe43004900440034003800360037003000                 3\n",
              "3      fffe43004900440036003200370033003400                 3\n",
              "4      fffe43004900440035003000370031003900                 5\n",
              "...                                     ...               ...\n",
              "19914  fffe43004900440035003600330037003800                 1\n",
              "19915  fffe43004900440032003900370037003100                 5\n",
              "19916  fffe43004900440036003100310036003700                 5\n",
              "19917  fffe43004900440034003200330033003600                 4\n",
              "19918  fffe43004900440036003200340030003100                 3\n",
              "\n",
              "[19919 rows x 2 columns]"
            ]
          },
          "metadata": {
            "tags": []
          },
          "execution_count": 203
        }
      ]
    },
    {
      "cell_type": "code",
      "metadata": {
        "id": "3Wm9RbQyWE7_"
      },
      "source": [
        "rfc_final.to_csv('rfc_final.csv')"
      ],
      "execution_count": 204,
      "outputs": []
    },
    {
      "cell_type": "code",
      "metadata": {
        "id": "eKaGjw6rWyZj"
      },
      "source": [
        ""
      ],
      "execution_count": null,
      "outputs": []
    },
    {
      "cell_type": "markdown",
      "metadata": {
        "id": "cZgJYgFmW0Ov"
      },
      "source": [
        "\n",
        "XGB Classifier"
      ]
    },
    {
      "cell_type": "code",
      "metadata": {
        "id": "hM7teFVuXD3r"
      },
      "source": [
        "from xgboost import XGBClassifier\n",
        "x_train, x_test, y_train, y_test = train_test_split(train_df, labels, test_size=0.10, random_state=42)\n",
        "xgb = XGBClassifier(n_jobs=-1,n_estimators=1000,max_depth=10)\n",
        "xgb.fit(x_train,y_train)\n",
        "y_pred = xgb.predict(x_test)"
      ],
      "execution_count": 205,
      "outputs": []
    },
    {
      "cell_type": "code",
      "metadata": {
        "colab": {
          "base_uri": "https://localhost:8080/"
        },
        "id": "vqx79AebXVMu",
        "outputId": "57f563c9-826b-4796-97aa-c132c38e603c"
      },
      "source": [
        "print(classification_report(y_test,y_pred))\n",
        "print(f1_score(y_test, y_pred,average='macro'))"
      ],
      "execution_count": 206,
      "outputs": [
        {
          "output_type": "stream",
          "text": [
            "              precision    recall  f1-score   support\n",
            "\n",
            "           1       0.74      0.77      0.75       241\n",
            "           2       0.77      0.74      0.75       251\n",
            "           3       0.94      0.94      0.94       922\n",
            "           4       0.72      0.68      0.70       907\n",
            "           5       0.76      0.80      0.78       903\n",
            "\n",
            "    accuracy                           0.80      3224\n",
            "   macro avg       0.78      0.78      0.78      3224\n",
            "weighted avg       0.80      0.80      0.80      3224\n",
            "\n",
            "0.7837910101705303\n"
          ],
          "name": "stdout"
        }
      ]
    },
    {
      "cell_type": "code",
      "metadata": {
        "colab": {
          "base_uri": "https://localhost:8080/"
        },
        "id": "FnbYcKM3XZ3S",
        "outputId": "26c3d84e-dcb5-4f17-9ea7-4ab9dfb2c7d8"
      },
      "source": [
        "y_pred_xgb = xgb.predict(test_df)\n",
        "Counter(y_pred_xgb)"
      ],
      "execution_count": 207,
      "outputs": [
        {
          "output_type": "execute_result",
          "data": {
            "text/plain": [
              "Counter({1: 1483, 2: 1528, 3: 5587, 4: 5632, 5: 5689})"
            ]
          },
          "metadata": {
            "tags": []
          },
          "execution_count": 207
        }
      ]
    },
    {
      "cell_type": "code",
      "metadata": {
        "colab": {
          "base_uri": "https://localhost:8080/",
          "height": 420
        },
        "id": "GT_Osew_Xehy",
        "outputId": "955434ba-b8bb-4995-ee2d-0e169222fa47"
      },
      "source": [
        "xgb_prediction_df = pd.DataFrame(y_pred_xgb, columns=['churn_risk_score'])\n",
        "\n",
        "xgb_final = pd.concat([ test_data['customer_id'], xgb_prediction_df['churn_risk_score']], axis=1)\n",
        "xgb_final"
      ],
      "execution_count": 208,
      "outputs": [
        {
          "output_type": "execute_result",
          "data": {
            "text/html": [
              "<div>\n",
              "<style scoped>\n",
              "    .dataframe tbody tr th:only-of-type {\n",
              "        vertical-align: middle;\n",
              "    }\n",
              "\n",
              "    .dataframe tbody tr th {\n",
              "        vertical-align: top;\n",
              "    }\n",
              "\n",
              "    .dataframe thead th {\n",
              "        text-align: right;\n",
              "    }\n",
              "</style>\n",
              "<table border=\"1\" class=\"dataframe\">\n",
              "  <thead>\n",
              "    <tr style=\"text-align: right;\">\n",
              "      <th></th>\n",
              "      <th>customer_id</th>\n",
              "      <th>churn_risk_score</th>\n",
              "    </tr>\n",
              "  </thead>\n",
              "  <tbody>\n",
              "    <tr>\n",
              "      <th>0</th>\n",
              "      <td>fffe43004900440031003700300030003400</td>\n",
              "      <td>3</td>\n",
              "    </tr>\n",
              "    <tr>\n",
              "      <th>1</th>\n",
              "      <td>fffe43004900440031003900370037003300</td>\n",
              "      <td>3</td>\n",
              "    </tr>\n",
              "    <tr>\n",
              "      <th>2</th>\n",
              "      <td>fffe43004900440034003800360037003000</td>\n",
              "      <td>4</td>\n",
              "    </tr>\n",
              "    <tr>\n",
              "      <th>3</th>\n",
              "      <td>fffe43004900440036003200370033003400</td>\n",
              "      <td>3</td>\n",
              "    </tr>\n",
              "    <tr>\n",
              "      <th>4</th>\n",
              "      <td>fffe43004900440035003000370031003900</td>\n",
              "      <td>5</td>\n",
              "    </tr>\n",
              "    <tr>\n",
              "      <th>...</th>\n",
              "      <td>...</td>\n",
              "      <td>...</td>\n",
              "    </tr>\n",
              "    <tr>\n",
              "      <th>19914</th>\n",
              "      <td>fffe43004900440035003600330037003800</td>\n",
              "      <td>3</td>\n",
              "    </tr>\n",
              "    <tr>\n",
              "      <th>19915</th>\n",
              "      <td>fffe43004900440032003900370037003100</td>\n",
              "      <td>5</td>\n",
              "    </tr>\n",
              "    <tr>\n",
              "      <th>19916</th>\n",
              "      <td>fffe43004900440036003100310036003700</td>\n",
              "      <td>5</td>\n",
              "    </tr>\n",
              "    <tr>\n",
              "      <th>19917</th>\n",
              "      <td>fffe43004900440034003200330033003600</td>\n",
              "      <td>4</td>\n",
              "    </tr>\n",
              "    <tr>\n",
              "      <th>19918</th>\n",
              "      <td>fffe43004900440036003200340030003100</td>\n",
              "      <td>3</td>\n",
              "    </tr>\n",
              "  </tbody>\n",
              "</table>\n",
              "<p>19919 rows × 2 columns</p>\n",
              "</div>"
            ],
            "text/plain": [
              "                                customer_id  churn_risk_score\n",
              "0      fffe43004900440031003700300030003400                 3\n",
              "1      fffe43004900440031003900370037003300                 3\n",
              "2      fffe43004900440034003800360037003000                 4\n",
              "3      fffe43004900440036003200370033003400                 3\n",
              "4      fffe43004900440035003000370031003900                 5\n",
              "...                                     ...               ...\n",
              "19914  fffe43004900440035003600330037003800                 3\n",
              "19915  fffe43004900440032003900370037003100                 5\n",
              "19916  fffe43004900440036003100310036003700                 5\n",
              "19917  fffe43004900440034003200330033003600                 4\n",
              "19918  fffe43004900440036003200340030003100                 3\n",
              "\n",
              "[19919 rows x 2 columns]"
            ]
          },
          "metadata": {
            "tags": []
          },
          "execution_count": 208
        }
      ]
    },
    {
      "cell_type": "code",
      "metadata": {
        "id": "bu0uyViHXhOd"
      },
      "source": [
        "xgb_final.to_csv('xgb_final.csv')"
      ],
      "execution_count": 209,
      "outputs": []
    }
  ]
}